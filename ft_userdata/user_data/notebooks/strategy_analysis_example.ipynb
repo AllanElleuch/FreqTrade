{
 "cells": [
  {
   "cell_type": "markdown",
   "metadata": {},
   "source": [
    "# Strategy analysis example\n",
    "\n",
    "Debugging a strategy can be time-consuming. Freqtrade offers helper functions to visualize raw data.\n",
    "The following assumes you work with SampleStrategy, data for 5m timeframe from Binance and have downloaded them into the data directory in the default location.\n",
    "Please follow the [documentation](https://www.freqtrade.io/en/stable/data-download/) for more details."
   ]
  },
  {
   "cell_type": "markdown",
   "metadata": {},
   "source": [
    "## Setup\n",
    "\n",
    "### Change Working directory to repository root"
   ]
  },
  {
   "cell_type": "code",
   "execution_count": 1,
   "metadata": {},
   "outputs": [
    {
     "name": "stdout",
     "output_type": "stream",
     "text": [
      "/freqtrade\n"
     ]
    }
   ],
   "source": [
    "import os\n",
    "from pathlib import Path\n",
    "\n",
    "# Change directory\n",
    "# Modify this cell to insure that the output shows the correct path.\n",
    "# Define all paths relative to the project root shown in the cell output\n",
    "project_root = \"somedir/freqtrade\"\n",
    "i=0\n",
    "try:\n",
    "    os.chdir(project_root)\n",
    "    assert Path('LICENSE').is_file()\n",
    "except:\n",
    "    while i<4 and (not Path('LICENSE').is_file()):\n",
    "        os.chdir(Path(Path.cwd(), '../'))\n",
    "        i+=1\n",
    "    project_root = Path.cwd()\n",
    "print(Path.cwd())"
   ]
  },
  {
   "cell_type": "markdown",
   "metadata": {},
   "source": [
    "### Configure Freqtrade environment"
   ]
  },
  {
   "cell_type": "code",
   "execution_count": 16,
   "metadata": {},
   "outputs": [
    {
     "name": "stdout",
     "output_type": "stream",
     "text": [
      "Loaded 0 rows of data for ETH/USDT:USDT from /freqtrade/user_data/data\n"
     ]
    },
    {
     "data": {
      "text/html": [
       "<div>\n",
       "<style scoped>\n",
       "    .dataframe tbody tr th:only-of-type {\n",
       "        vertical-align: middle;\n",
       "    }\n",
       "\n",
       "    .dataframe tbody tr th {\n",
       "        vertical-align: top;\n",
       "    }\n",
       "\n",
       "    .dataframe thead th {\n",
       "        text-align: right;\n",
       "    }\n",
       "</style>\n",
       "<table border=\"1\" class=\"dataframe\">\n",
       "  <thead>\n",
       "    <tr style=\"text-align: right;\">\n",
       "      <th></th>\n",
       "      <th>date</th>\n",
       "      <th>open</th>\n",
       "      <th>high</th>\n",
       "      <th>low</th>\n",
       "      <th>close</th>\n",
       "      <th>volume</th>\n",
       "    </tr>\n",
       "  </thead>\n",
       "  <tbody>\n",
       "  </tbody>\n",
       "</table>\n",
       "</div>"
      ],
      "text/plain": [
       "Empty DataFrame\n",
       "Columns: [date, open, high, low, close, volume]\n",
       "Index: []"
      ]
     },
     "execution_count": 16,
     "metadata": {},
     "output_type": "execute_result"
    }
   ],
   "source": [
    "from freqtrade.configuration import Configuration\n",
    "\n",
    "# Customize these according to your needs.\n",
    "\n",
    "# Initialize empty configuration object\n",
    "config = Configuration.from_files([])\n",
    "# Optionally (recommended), use existing configuration file\n",
    "# config = Configuration.from_files([\"user_data/config.json\"])\n",
    "\n",
    "# Define some constants\n",
    "config[\"timeframe\"] = \"15m\"\n",
    "# Name of the strategy class\n",
    "config[\"strategy\"] = \"SampleStrategy\"\n",
    "# Location of the data\n",
    "data_location = config[\"datadir\"]\n",
    "# Pair to analyze - Only use one pair here\n",
    "pair = \"ETH/USDT\"\n",
    "\n",
    "\n",
    "# Load data using values set above\n",
    "from freqtrade.data.history import load_pair_history\n",
    "from freqtrade.enums import CandleType\n",
    "\n",
    "candles = load_pair_history(datadir=data_location,\n",
    "                            timeframe=config[\"timeframe\"],\n",
    "                            pair=pair,\n",
    "                            data_format = \"json\",  # Make sure to update this to your data\n",
    "                            candle_type=CandleType.FUTURES,\n",
    "                            )\n",
    "\n",
    "# Confirm success\n",
    "print(f\"Loaded {len(candles)} rows of data for {pair} from {data_location}\")\n",
    "candles.head()"
   ]
  },
  {
   "cell_type": "code",
   "execution_count": 7,
   "metadata": {},
   "outputs": [
    {
     "name": "stdout",
     "output_type": "stream",
     "text": [
      "Loaded 0 rows of data for ETH/USDT from /freqtrade/user_data/data\n"
     ]
    },
    {
     "data": {
      "text/html": [
       "<div>\n",
       "<style scoped>\n",
       "    .dataframe tbody tr th:only-of-type {\n",
       "        vertical-align: middle;\n",
       "    }\n",
       "\n",
       "    .dataframe tbody tr th {\n",
       "        vertical-align: top;\n",
       "    }\n",
       "\n",
       "    .dataframe thead th {\n",
       "        text-align: right;\n",
       "    }\n",
       "</style>\n",
       "<table border=\"1\" class=\"dataframe\">\n",
       "  <thead>\n",
       "    <tr style=\"text-align: right;\">\n",
       "      <th></th>\n",
       "      <th>date</th>\n",
       "      <th>open</th>\n",
       "      <th>high</th>\n",
       "      <th>low</th>\n",
       "      <th>close</th>\n",
       "      <th>volume</th>\n",
       "    </tr>\n",
       "  </thead>\n",
       "  <tbody>\n",
       "  </tbody>\n",
       "</table>\n",
       "</div>"
      ],
      "text/plain": [
       "Empty DataFrame\n",
       "Columns: [date, open, high, low, close, volume]\n",
       "Index: []"
      ]
     },
     "execution_count": 7,
     "metadata": {},
     "output_type": "execute_result"
    }
   ],
   "source": []
  },
  {
   "cell_type": "markdown",
   "metadata": {},
   "source": [
    "## Load and run strategy\n",
    "* Rerun each time the strategy file is changed"
   ]
  },
  {
   "cell_type": "code",
   "execution_count": 4,
   "metadata": {},
   "outputs": [
    {
     "ename": "ValueError",
     "evalue": "cannot set a frame with no defined index and a scalar",
     "output_type": "error",
     "traceback": [
      "\u001b[0;31m---------------------------------------------------------------------------\u001b[0m",
      "\u001b[0;31mValueError\u001b[0m                                Traceback (most recent call last)",
      "Cell \u001b[0;32mIn[4], line 9\u001b[0m\n\u001b[1;32m      6\u001b[0m strategy\u001b[38;5;241m.\u001b[39mft_bot_start()\n\u001b[1;32m      8\u001b[0m \u001b[38;5;66;03m# Generate buy/sell signals using strategy\u001b[39;00m\n\u001b[0;32m----> 9\u001b[0m df \u001b[38;5;241m=\u001b[39m \u001b[43mstrategy\u001b[49m\u001b[38;5;241;43m.\u001b[39;49m\u001b[43manalyze_ticker\u001b[49m\u001b[43m(\u001b[49m\u001b[43mcandles\u001b[49m\u001b[43m,\u001b[49m\u001b[43m \u001b[49m\u001b[43m{\u001b[49m\u001b[38;5;124;43m'\u001b[39;49m\u001b[38;5;124;43mpair\u001b[39;49m\u001b[38;5;124;43m'\u001b[39;49m\u001b[43m:\u001b[49m\u001b[43m \u001b[49m\u001b[43mpair\u001b[49m\u001b[43m}\u001b[49m\u001b[43m)\u001b[49m\n\u001b[1;32m     10\u001b[0m df\u001b[38;5;241m.\u001b[39mtail()\n",
      "File \u001b[0;32m/freqtrade/freqtrade/strategy/interface.py:1040\u001b[0m, in \u001b[0;36mIStrategy.analyze_ticker\u001b[0;34m(self, dataframe, metadata)\u001b[0m\n\u001b[1;32m   1038\u001b[0m logger\u001b[38;5;241m.\u001b[39mdebug(\u001b[38;5;124m\"\u001b[39m\u001b[38;5;124mTA Analysis Launched\u001b[39m\u001b[38;5;124m\"\u001b[39m)\n\u001b[1;32m   1039\u001b[0m dataframe \u001b[38;5;241m=\u001b[39m \u001b[38;5;28mself\u001b[39m\u001b[38;5;241m.\u001b[39madvise_indicators(dataframe, metadata)\n\u001b[0;32m-> 1040\u001b[0m dataframe \u001b[38;5;241m=\u001b[39m \u001b[38;5;28;43mself\u001b[39;49m\u001b[38;5;241;43m.\u001b[39;49m\u001b[43madvise_entry\u001b[49m\u001b[43m(\u001b[49m\u001b[43mdataframe\u001b[49m\u001b[43m,\u001b[49m\u001b[43m \u001b[49m\u001b[43mmetadata\u001b[49m\u001b[43m)\u001b[49m\n\u001b[1;32m   1041\u001b[0m dataframe \u001b[38;5;241m=\u001b[39m \u001b[38;5;28mself\u001b[39m\u001b[38;5;241m.\u001b[39madvise_exit(dataframe, metadata)\n\u001b[1;32m   1042\u001b[0m \u001b[38;5;28;01mreturn\u001b[39;00m dataframe\n",
      "File \u001b[0;32m/freqtrade/freqtrade/strategy/interface.py:1624\u001b[0m, in \u001b[0;36mIStrategy.advise_entry\u001b[0;34m(self, dataframe, metadata)\u001b[0m\n\u001b[1;32m   1622\u001b[0m logger\u001b[38;5;241m.\u001b[39mdebug(\u001b[38;5;124mf\u001b[39m\u001b[38;5;124m\"\u001b[39m\u001b[38;5;124mPopulating enter signals for pair \u001b[39m\u001b[38;5;132;01m{\u001b[39;00mmetadata\u001b[38;5;241m.\u001b[39mget(\u001b[38;5;124m'\u001b[39m\u001b[38;5;124mpair\u001b[39m\u001b[38;5;124m'\u001b[39m)\u001b[38;5;132;01m}\u001b[39;00m\u001b[38;5;124m.\u001b[39m\u001b[38;5;124m\"\u001b[39m)\n\u001b[1;32m   1623\u001b[0m \u001b[38;5;66;03m# Initialize column to work around Pandas bug #56503.\u001b[39;00m\n\u001b[0;32m-> 1624\u001b[0m \u001b[43mdataframe\u001b[49m\u001b[38;5;241;43m.\u001b[39;49m\u001b[43mloc\u001b[49m\u001b[43m[\u001b[49m\u001b[43m:\u001b[49m\u001b[43m,\u001b[49m\u001b[43m \u001b[49m\u001b[38;5;124;43m\"\u001b[39;49m\u001b[38;5;124;43menter_tag\u001b[39;49m\u001b[38;5;124;43m\"\u001b[39;49m\u001b[43m]\u001b[49m \u001b[38;5;241m=\u001b[39m \u001b[38;5;124m\"\u001b[39m\u001b[38;5;124m\"\u001b[39m\n\u001b[1;32m   1625\u001b[0m df \u001b[38;5;241m=\u001b[39m \u001b[38;5;28mself\u001b[39m\u001b[38;5;241m.\u001b[39mpopulate_entry_trend(dataframe, metadata)\n\u001b[1;32m   1626\u001b[0m \u001b[38;5;28;01mif\u001b[39;00m \u001b[38;5;124m\"\u001b[39m\u001b[38;5;124menter_long\u001b[39m\u001b[38;5;124m\"\u001b[39m \u001b[38;5;129;01mnot\u001b[39;00m \u001b[38;5;129;01min\u001b[39;00m df\u001b[38;5;241m.\u001b[39mcolumns:\n",
      "File \u001b[0;32m~/.local/lib/python3.12/site-packages/pandas/core/indexing.py:911\u001b[0m, in \u001b[0;36m_LocationIndexer.__setitem__\u001b[0;34m(self, key, value)\u001b[0m\n\u001b[1;32m    908\u001b[0m \u001b[38;5;28mself\u001b[39m\u001b[38;5;241m.\u001b[39m_has_valid_setitem_indexer(key)\n\u001b[1;32m    910\u001b[0m iloc \u001b[38;5;241m=\u001b[39m \u001b[38;5;28mself\u001b[39m \u001b[38;5;28;01mif\u001b[39;00m \u001b[38;5;28mself\u001b[39m\u001b[38;5;241m.\u001b[39mname \u001b[38;5;241m==\u001b[39m \u001b[38;5;124m\"\u001b[39m\u001b[38;5;124miloc\u001b[39m\u001b[38;5;124m\"\u001b[39m \u001b[38;5;28;01melse\u001b[39;00m \u001b[38;5;28mself\u001b[39m\u001b[38;5;241m.\u001b[39mobj\u001b[38;5;241m.\u001b[39miloc\n\u001b[0;32m--> 911\u001b[0m \u001b[43miloc\u001b[49m\u001b[38;5;241;43m.\u001b[39;49m\u001b[43m_setitem_with_indexer\u001b[49m\u001b[43m(\u001b[49m\u001b[43mindexer\u001b[49m\u001b[43m,\u001b[49m\u001b[43m \u001b[49m\u001b[43mvalue\u001b[49m\u001b[43m,\u001b[49m\u001b[43m \u001b[49m\u001b[38;5;28;43mself\u001b[39;49m\u001b[38;5;241;43m.\u001b[39;49m\u001b[43mname\u001b[49m\u001b[43m)\u001b[49m\n",
      "File \u001b[0;32m~/.local/lib/python3.12/site-packages/pandas/core/indexing.py:1847\u001b[0m, in \u001b[0;36m_iLocIndexer._setitem_with_indexer\u001b[0;34m(self, indexer, value, name)\u001b[0m\n\u001b[1;32m   1845\u001b[0m \u001b[38;5;28;01mif\u001b[39;00m \u001b[38;5;129;01mnot\u001b[39;00m \u001b[38;5;28mlen\u001b[39m(\u001b[38;5;28mself\u001b[39m\u001b[38;5;241m.\u001b[39mobj):\n\u001b[1;32m   1846\u001b[0m     \u001b[38;5;28;01mif\u001b[39;00m \u001b[38;5;129;01mnot\u001b[39;00m is_list_like_indexer(value):\n\u001b[0;32m-> 1847\u001b[0m         \u001b[38;5;28;01mraise\u001b[39;00m \u001b[38;5;167;01mValueError\u001b[39;00m(\n\u001b[1;32m   1848\u001b[0m             \u001b[38;5;124m\"\u001b[39m\u001b[38;5;124mcannot set a frame with no \u001b[39m\u001b[38;5;124m\"\u001b[39m\n\u001b[1;32m   1849\u001b[0m             \u001b[38;5;124m\"\u001b[39m\u001b[38;5;124mdefined index and a scalar\u001b[39m\u001b[38;5;124m\"\u001b[39m\n\u001b[1;32m   1850\u001b[0m         )\n\u001b[1;32m   1851\u001b[0m     \u001b[38;5;28mself\u001b[39m\u001b[38;5;241m.\u001b[39mobj[key] \u001b[38;5;241m=\u001b[39m value\n\u001b[1;32m   1852\u001b[0m     \u001b[38;5;28;01mreturn\u001b[39;00m\n",
      "\u001b[0;31mValueError\u001b[0m: cannot set a frame with no defined index and a scalar"
     ]
    }
   ],
   "source": [
    "# Load strategy using values set above\n",
    "from freqtrade.resolvers import StrategyResolver\n",
    "from freqtrade.data.dataprovider import DataProvider\n",
    "strategy = StrategyResolver.load_strategy(config)\n",
    "strategy.dp = DataProvider(config, None, None)\n",
    "strategy.ft_bot_start()\n",
    "\n",
    "# Generate buy/sell signals using strategy\n",
    "df = strategy.analyze_ticker(candles, {'pair': pair})\n",
    "df.tail()"
   ]
  },
  {
   "cell_type": "markdown",
   "metadata": {},
   "source": [
    "### Display the trade details\n",
    "\n",
    "* Note that using `data.head()` would also work, however most indicators have some \"startup\" data at the top of the dataframe.\n",
    "* Some possible problems\n",
    "    * Columns with NaN values at the end of the dataframe\n",
    "    * Columns used in `crossed*()` functions with completely different units\n",
    "* Comparison with full backtest\n",
    "    * having 200 buy signals as output for one pair from `analyze_ticker()` does not necessarily mean that 200 trades will be made during backtesting.\n",
    "    * Assuming you use only one condition such as, `df['rsi'] < 30` as buy condition, this will generate multiple \"buy\" signals for each pair in sequence (until rsi returns > 29). The bot will only buy on the first of these signals (and also only if a trade-slot (\"max_open_trades\") is still available), or on one of the middle signals, as soon as a \"slot\" becomes available.  \n"
   ]
  },
  {
   "cell_type": "code",
   "execution_count": null,
   "metadata": {},
   "outputs": [],
   "source": [
    "# Report results\n",
    "print(f\"Generated {df['enter_long'].sum()} entry signals\")\n",
    "data = df.set_index('date', drop=False)\n",
    "data.tail()"
   ]
  },
  {
   "cell_type": "markdown",
   "metadata": {},
   "source": [
    "## Load existing objects into a Jupyter notebook\n",
    "\n",
    "The following cells assume that you have already generated data using the cli.  \n",
    "They will allow you to drill deeper into your results, and perform analysis which otherwise would make the output very difficult to digest due to information overload."
   ]
  },
  {
   "cell_type": "markdown",
   "metadata": {},
   "source": [
    "### Load backtest results to pandas dataframe\n",
    "\n",
    "Analyze a trades dataframe (also used below for plotting)"
   ]
  },
  {
   "cell_type": "code",
   "execution_count": null,
   "metadata": {},
   "outputs": [],
   "source": [
    "from freqtrade.data.btanalysis import load_backtest_data, load_backtest_stats\n",
    "\n",
    "# if backtest_dir points to a directory, it'll automatically load the last backtest file.\n",
    "backtest_dir = config[\"user_data_dir\"] / \"backtest_results\"\n",
    "# backtest_dir can also point to a specific file\n",
    "# backtest_dir = config[\"user_data_dir\"] / \"backtest_results/backtest-result-2020-07-01_20-04-22.json\""
   ]
  },
  {
   "cell_type": "code",
   "execution_count": null,
   "metadata": {},
   "outputs": [],
   "source": [
    "# You can get the full backtest statistics by using the following command.\n",
    "# This contains all information used to generate the backtest result.\n",
    "stats = load_backtest_stats(backtest_dir)\n",
    "\n",
    "strategy = 'SampleStrategy'\n",
    "# All statistics are available per strategy, so if `--strategy-list` was used during backtest, this will be reflected here as well.\n",
    "# Example usages:\n",
    "print(stats['strategy'][strategy]['results_per_pair'])\n",
    "# Get pairlist used for this backtest\n",
    "print(stats['strategy'][strategy]['pairlist'])\n",
    "# Get market change (average change of all pairs from start to end of the backtest period)\n",
    "print(stats['strategy'][strategy]['market_change'])\n",
    "# Maximum drawdown ()\n",
    "print(stats['strategy'][strategy]['max_drawdown'])\n",
    "# Maximum drawdown start and end\n",
    "print(stats['strategy'][strategy]['drawdown_start'])\n",
    "print(stats['strategy'][strategy]['drawdown_end'])\n",
    "\n",
    "\n",
    "# Get strategy comparison (only relevant if multiple strategies were compared)\n",
    "print(stats['strategy_comparison'])\n"
   ]
  },
  {
   "cell_type": "code",
   "execution_count": null,
   "metadata": {},
   "outputs": [],
   "source": [
    "# Load backtested trades as dataframe\n",
    "trades = load_backtest_data(backtest_dir)\n",
    "\n",
    "# Show value-counts per pair\n",
    "trades.groupby(\"pair\")[\"exit_reason\"].value_counts()"
   ]
  },
  {
   "cell_type": "markdown",
   "metadata": {},
   "source": [
    "## Plotting daily profit / equity line"
   ]
  },
  {
   "cell_type": "code",
   "execution_count": null,
   "metadata": {},
   "outputs": [],
   "source": [
    "# Plotting equity line (starting with 0 on day 1 and adding daily profit for each backtested day)\n",
    "\n",
    "from freqtrade.configuration import Configuration\n",
    "from freqtrade.data.btanalysis import load_backtest_stats\n",
    "import plotly.express as px\n",
    "import pandas as pd\n",
    "\n",
    "# strategy = 'SampleStrategy'\n",
    "# config = Configuration.from_files([\"user_data/config.json\"])\n",
    "# backtest_dir = config[\"user_data_dir\"] / \"backtest_results\"\n",
    "\n",
    "stats = load_backtest_stats(backtest_dir)\n",
    "strategy_stats = stats['strategy'][strategy]\n",
    "\n",
    "df = pd.DataFrame(columns=['dates','equity'], data=strategy_stats['daily_profit'])\n",
    "df['equity_daily'] = df['equity'].cumsum()\n",
    "\n",
    "fig = px.line(df, x=\"dates\", y=\"equity_daily\")\n",
    "fig.show()\n"
   ]
  },
  {
   "cell_type": "markdown",
   "metadata": {},
   "source": [
    "### Load live trading results into a pandas dataframe\n",
    "\n",
    "In case you did already some trading and want to analyze your performance"
   ]
  },
  {
   "cell_type": "code",
   "execution_count": null,
   "metadata": {},
   "outputs": [],
   "source": [
    "from freqtrade.data.btanalysis import load_trades_from_db\n",
    "\n",
    "# Fetch trades from database\n",
    "trades = load_trades_from_db(\"sqlite:///tradesv3.sqlite\")\n",
    "\n",
    "# Display results\n",
    "trades.groupby(\"pair\")[\"exit_reason\"].value_counts()"
   ]
  },
  {
   "cell_type": "markdown",
   "metadata": {},
   "source": [
    "## Analyze the loaded trades for trade parallelism\n",
    "This can be useful to find the best `max_open_trades` parameter, when used with backtesting in conjunction with `--disable-max-market-positions`.\n",
    "\n",
    "`analyze_trade_parallelism()` returns a timeseries dataframe with an \"open_trades\" column, specifying the number of open trades for each candle."
   ]
  },
  {
   "cell_type": "code",
   "execution_count": null,
   "metadata": {},
   "outputs": [],
   "source": [
    "from freqtrade.data.btanalysis import analyze_trade_parallelism\n",
    "\n",
    "# Analyze the above\n",
    "parallel_trades = analyze_trade_parallelism(trades, '5m')\n",
    "\n",
    "parallel_trades.plot()"
   ]
  },
  {
   "cell_type": "markdown",
   "metadata": {},
   "source": [
    "## Plot results\n",
    "\n",
    "Freqtrade offers interactive plotting capabilities based on plotly."
   ]
  },
  {
   "cell_type": "code",
   "execution_count": null,
   "metadata": {},
   "outputs": [],
   "source": [
    "from freqtrade.plot.plotting import  generate_candlestick_graph\n",
    "# Limit graph period to keep plotly quick and reactive\n",
    "\n",
    "# Filter trades to one pair\n",
    "trades_red = trades.loc[trades['pair'] == pair]\n",
    "\n",
    "data_red = data['2019-06-01':'2019-06-10']\n",
    "# Generate candlestick graph\n",
    "graph = generate_candlestick_graph(pair=pair,\n",
    "                                   data=data_red,\n",
    "                                   trades=trades_red,\n",
    "                                   indicators1=['sma20', 'ema50', 'ema55'],\n",
    "                                   indicators2=['rsi', 'macd', 'macdsignal', 'macdhist']\n",
    "                                  )\n",
    "\n",
    "\n"
   ]
  },
  {
   "cell_type": "code",
   "execution_count": null,
   "metadata": {},
   "outputs": [],
   "source": [
    "# Show graph inline\n",
    "# graph.show()\n",
    "\n",
    "# Render graph in a separate window\n",
    "graph.show(renderer=\"browser\")\n"
   ]
  },
  {
   "cell_type": "markdown",
   "metadata": {},
   "source": [
    "## Plot average profit per trade as distribution graph"
   ]
  },
  {
   "cell_type": "code",
   "execution_count": null,
   "metadata": {},
   "outputs": [],
   "source": [
    "import plotly.figure_factory as ff\n",
    "\n",
    "hist_data = [trades.profit_ratio]\n",
    "group_labels = ['profit_ratio']  # name of the dataset\n",
    "\n",
    "fig = ff.create_distplot(hist_data, group_labels, bin_size=0.01)\n",
    "fig.show()\n"
   ]
  },
  {
   "cell_type": "markdown",
   "metadata": {},
   "source": [
    "Feel free to submit an issue or Pull Request enhancing this document if you would like to share ideas on how to best analyze the data."
   ]
  }
 ],
 "metadata": {
  "file_extension": ".py",
  "kernelspec": {
   "display_name": "Python 3 (ipykernel)",
   "language": "python",
   "name": "python3"
  },
  "language_info": {
   "codemirror_mode": {
    "name": "ipython",
    "version": 3
   },
   "file_extension": ".py",
   "mimetype": "text/x-python",
   "name": "python",
   "nbconvert_exporter": "python",
   "pygments_lexer": "ipython3",
   "version": "3.12.4"
  },
  "mimetype": "text/x-python",
  "name": "python",
  "npconvert_exporter": "python",
  "pygments_lexer": "ipython3",
  "toc": {
   "base_numbering": 1,
   "nav_menu": {},
   "number_sections": true,
   "sideBar": true,
   "skip_h1_title": false,
   "title_cell": "Table of Contents",
   "title_sidebar": "Contents",
   "toc_cell": false,
   "toc_position": {},
   "toc_section_display": true,
   "toc_window_display": false
  },
  "varInspector": {
   "cols": {
    "lenName": 16,
    "lenType": 16,
    "lenVar": 40
   },
   "kernels_config": {
    "python": {
     "delete_cmd_postfix": "",
     "delete_cmd_prefix": "del ",
     "library": "var_list.py",
     "varRefreshCmd": "print(var_dic_list())"
    },
    "r": {
     "delete_cmd_postfix": ") ",
     "delete_cmd_prefix": "rm(",
     "library": "var_list.r",
     "varRefreshCmd": "cat(var_dic_list()) "
    }
   },
   "types_to_exclude": [
    "module",
    "function",
    "builtin_function_or_method",
    "instance",
    "_Feature"
   ],
   "window_display": false
  },
  "version": 3,
  "vscode": {
   "interpreter": {
    "hash": "675f32a300d6d26767470181ad0b11dd4676bcce7ed1dd2ffe2fbc370c95fc7c"
   }
  }
 },
 "nbformat": 4,
 "nbformat_minor": 4
}
