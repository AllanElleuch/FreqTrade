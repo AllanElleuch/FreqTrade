{
 "cells": [
  {
   "cell_type": "markdown",
   "metadata": {},
   "source": [
    "# Strategy analysis example\n",
    "\n",
    "Debugging a strategy can be time-consuming. Freqtrade offers helper functions to visualize raw data.\n",
    "The following assumes you work with SampleStrategy, data for 5m timeframe from Binance and have downloaded them into the data directory in the default location.\n",
    "Please follow the [documentation](https://www.freqtrade.io/en/stable/data-download/) for more details."
   ]
  },
  {
   "cell_type": "markdown",
   "metadata": {},
   "source": [
    "## Setup\n",
    "\n",
    "### Change Working directory to repository root"
   ]
  },
  {
   "cell_type": "code",
   "execution_count": 1,
   "metadata": {},
   "outputs": [
    {
     "name": "stdout",
     "output_type": "stream",
     "text": [
      "/freqtrade\n"
     ]
    }
   ],
   "source": [
    "import os\n",
    "from pathlib import Path\n",
    "\n",
    "# Change directory\n",
    "# Modify this cell to insure that the output shows the correct path.\n",
    "# Define all paths relative to the project root shown in the cell output\n",
    "project_root = \"/freqtrade/\"\n",
    "i=0\n",
    "try:\n",
    "    os.chdir(project_root)\n",
    "    assert Path('LICENSE').is_file()\n",
    "except:\n",
    "    while i<4 and (not Path('LICENSE').is_file()):\n",
    "        os.chdir(Path(Path.cwd(), '../'))\n",
    "        i+=1\n",
    "    project_root = Path.cwd()\n",
    "print(Path.cwd())"
   ]
  },
  {
   "cell_type": "markdown",
   "metadata": {},
   "source": [
    "### Configure Freqtrade environment"
   ]
  },
  {
   "cell_type": "code",
   "execution_count": 14,
   "metadata": {},
   "outputs": [
    {
     "name": "stdout",
     "output_type": "stream",
     "text": [
      "/freqtrade/user_data/data/bybit\n",
      "Loaded 63991 rows of data for ETH/USDT:USDT from /freqtrade/user_data/data/bybit\n"
     ]
    },
    {
     "data": {
      "text/html": [
       "<div>\n",
       "<style scoped>\n",
       "    .dataframe tbody tr th:only-of-type {\n",
       "        vertical-align: middle;\n",
       "    }\n",
       "\n",
       "    .dataframe tbody tr th {\n",
       "        vertical-align: top;\n",
       "    }\n",
       "\n",
       "    .dataframe thead th {\n",
       "        text-align: right;\n",
       "    }\n",
       "</style>\n",
       "<table border=\"1\" class=\"dataframe\">\n",
       "  <thead>\n",
       "    <tr style=\"text-align: right;\">\n",
       "      <th></th>\n",
       "      <th>date</th>\n",
       "      <th>open</th>\n",
       "      <th>high</th>\n",
       "      <th>low</th>\n",
       "      <th>close</th>\n",
       "      <th>volume</th>\n",
       "    </tr>\n",
       "  </thead>\n",
       "  <tbody>\n",
       "    <tr>\n",
       "      <th>0</th>\n",
       "      <td>2021-03-15 00:00:00+00:00</td>\n",
       "      <td>1850.35</td>\n",
       "      <td>1866.5</td>\n",
       "      <td>1842.60</td>\n",
       "      <td>1863.90</td>\n",
       "      <td>2801.29</td>\n",
       "    </tr>\n",
       "    <tr>\n",
       "      <th>1</th>\n",
       "      <td>2021-03-15 00:15:00+00:00</td>\n",
       "      <td>1863.90</td>\n",
       "      <td>1880.3</td>\n",
       "      <td>1862.35</td>\n",
       "      <td>1878.45</td>\n",
       "      <td>666.63</td>\n",
       "    </tr>\n",
       "    <tr>\n",
       "      <th>2</th>\n",
       "      <td>2021-03-15 00:30:00+00:00</td>\n",
       "      <td>1878.45</td>\n",
       "      <td>1882.0</td>\n",
       "      <td>1874.45</td>\n",
       "      <td>1880.15</td>\n",
       "      <td>441.05</td>\n",
       "    </tr>\n",
       "    <tr>\n",
       "      <th>3</th>\n",
       "      <td>2021-03-15 00:45:00+00:00</td>\n",
       "      <td>1880.15</td>\n",
       "      <td>1885.0</td>\n",
       "      <td>1872.25</td>\n",
       "      <td>1874.65</td>\n",
       "      <td>527.21</td>\n",
       "    </tr>\n",
       "    <tr>\n",
       "      <th>4</th>\n",
       "      <td>2021-03-15 01:00:00+00:00</td>\n",
       "      <td>1875.00</td>\n",
       "      <td>1887.0</td>\n",
       "      <td>1870.00</td>\n",
       "      <td>1877.75</td>\n",
       "      <td>923.67</td>\n",
       "    </tr>\n",
       "  </tbody>\n",
       "</table>\n",
       "</div>"
      ],
      "text/plain": [
       "                       date     open    high      low    close   volume\n",
       "0 2021-03-15 00:00:00+00:00  1850.35  1866.5  1842.60  1863.90  2801.29\n",
       "1 2021-03-15 00:15:00+00:00  1863.90  1880.3  1862.35  1878.45   666.63\n",
       "2 2021-03-15 00:30:00+00:00  1878.45  1882.0  1874.45  1880.15   441.05\n",
       "3 2021-03-15 00:45:00+00:00  1880.15  1885.0  1872.25  1874.65   527.21\n",
       "4 2021-03-15 01:00:00+00:00  1875.00  1887.0  1870.00  1877.75   923.67"
      ]
     },
     "execution_count": 14,
     "metadata": {},
     "output_type": "execute_result"
    }
   ],
   "source": [
    "### Configure Freqtrade environment¶\n",
    "from freqtrade.configuration import Configuration\n",
    "\n",
    "# Customize these according to your needs.\n",
    "\n",
    "# Initialize empty configuration object\n",
    "config = Configuration.from_files([\"user_data/config.json\"])\n",
    "# Optionally (recommended), use existing configuration file\n",
    "# config = Configuration.from_files([\"user_data/config.json\"])\n",
    "\n",
    "# Define some constants\n",
    "config[\"timeframe\"] = \"15m\"\n",
    "# Name of the strategy class\n",
    "config[\"strategy\"] = \"LSv1\"\n",
    "# Location of the data\n",
    "data_location = config[\"datadir\"]\n",
    "# Pair to analyze - Only use one pair here\n",
    "pair = \"ETH/USDT:USDT\"\n",
    "\n",
    "print(data_location)\n",
    "\n",
    "\n",
    "\n",
    "\n",
    "\n",
    "### Load data using values set above\n",
    "from freqtrade.data.history import load_pair_history\n",
    "from freqtrade.enums import CandleType\n",
    "\n",
    "candles = load_pair_history(datadir=data_location,\n",
    "                            timeframe=config[\"timeframe\"],\n",
    "                            pair=pair,\n",
    "                            data_format = \"feather\",  # Make sure to update this to your data\n",
    "                            candle_type=CandleType.FUTURES,\n",
    "                            )\n",
    "\n",
    "# Confirm success\n",
    "print(f\"Loaded {len(candles)} rows of data for {pair} from {data_location}\")\n",
    "candles.head()"
   ]
  },
  {
   "cell_type": "code",
   "execution_count": null,
   "metadata": {},
   "outputs": [],
   "source": []
  },
  {
   "cell_type": "markdown",
   "metadata": {},
   "source": [
    "## Load and run strategy\n",
    "* Rerun each time the strategy file is changed"
   ]
  },
  {
   "cell_type": "code",
   "execution_count": 15,
   "metadata": {},
   "outputs": [
    {
     "data": {
      "text/html": [
       "<div>\n",
       "<style scoped>\n",
       "    .dataframe tbody tr th:only-of-type {\n",
       "        vertical-align: middle;\n",
       "    }\n",
       "\n",
       "    .dataframe tbody tr th {\n",
       "        vertical-align: top;\n",
       "    }\n",
       "\n",
       "    .dataframe thead th {\n",
       "        text-align: right;\n",
       "    }\n",
       "</style>\n",
       "<table border=\"1\" class=\"dataframe\">\n",
       "  <thead>\n",
       "    <tr style=\"text-align: right;\">\n",
       "      <th></th>\n",
       "      <th>date</th>\n",
       "      <th>open</th>\n",
       "      <th>high</th>\n",
       "      <th>low</th>\n",
       "      <th>close</th>\n",
       "      <th>volume</th>\n",
       "      <th>trend_close_5m</th>\n",
       "      <th>trend_close_15m</th>\n",
       "      <th>trend_close_30m</th>\n",
       "      <th>trend_close_1h</th>\n",
       "      <th>...</th>\n",
       "      <th>leading_senkou_span_b</th>\n",
       "      <th>cloud_green</th>\n",
       "      <th>cloud_red</th>\n",
       "      <th>atr</th>\n",
       "      <th>enter_tag</th>\n",
       "      <th>enter_long</th>\n",
       "      <th>enter_short</th>\n",
       "      <th>exit_tag</th>\n",
       "      <th>exit_long</th>\n",
       "      <th>exit_short</th>\n",
       "    </tr>\n",
       "  </thead>\n",
       "  <tbody>\n",
       "    <tr>\n",
       "      <th>63986</th>\n",
       "      <td>2023-01-10 12:30:00+00:00</td>\n",
       "      <td>1327.963006</td>\n",
       "      <td>1327.963006</td>\n",
       "      <td>1324.600000</td>\n",
       "      <td>1326.35</td>\n",
       "      <td>5880.27</td>\n",
       "      <td>1326.35</td>\n",
       "      <td>1326.984210</td>\n",
       "      <td>1327.908548</td>\n",
       "      <td>1328.435493</td>\n",
       "      <td>...</td>\n",
       "      <td>1325.225</td>\n",
       "      <td>True</td>\n",
       "      <td>False</td>\n",
       "      <td>3.253385</td>\n",
       "      <td></td>\n",
       "      <td>NaN</td>\n",
       "      <td>NaN</td>\n",
       "      <td></td>\n",
       "      <td>NaN</td>\n",
       "      <td>NaN</td>\n",
       "    </tr>\n",
       "    <tr>\n",
       "      <th>63987</th>\n",
       "      <td>2023-01-10 12:45:00+00:00</td>\n",
       "      <td>1327.131503</td>\n",
       "      <td>1327.131503</td>\n",
       "      <td>1324.550000</td>\n",
       "      <td>1325.00</td>\n",
       "      <td>6675.05</td>\n",
       "      <td>1325.00</td>\n",
       "      <td>1325.992105</td>\n",
       "      <td>1327.077534</td>\n",
       "      <td>1327.906956</td>\n",
       "      <td>...</td>\n",
       "      <td>1325.225</td>\n",
       "      <td>True</td>\n",
       "      <td>False</td>\n",
       "      <td>3.205393</td>\n",
       "      <td></td>\n",
       "      <td>NaN</td>\n",
       "      <td>NaN</td>\n",
       "      <td></td>\n",
       "      <td>NaN</td>\n",
       "      <td>NaN</td>\n",
       "    </tr>\n",
       "    <tr>\n",
       "      <th>63988</th>\n",
       "      <td>2023-01-10 13:00:00+00:00</td>\n",
       "      <td>1326.440751</td>\n",
       "      <td>1328.550000</td>\n",
       "      <td>1324.950000</td>\n",
       "      <td>1327.25</td>\n",
       "      <td>6676.78</td>\n",
       "      <td>1327.25</td>\n",
       "      <td>1326.621052</td>\n",
       "      <td>1327.126810</td>\n",
       "      <td>1327.805886</td>\n",
       "      <td>...</td>\n",
       "      <td>1325.450</td>\n",
       "      <td>True</td>\n",
       "      <td>False</td>\n",
       "      <td>3.233580</td>\n",
       "      <td></td>\n",
       "      <td>NaN</td>\n",
       "      <td>NaN</td>\n",
       "      <td></td>\n",
       "      <td>NaN</td>\n",
       "      <td>NaN</td>\n",
       "    </tr>\n",
       "    <tr>\n",
       "      <th>63989</th>\n",
       "      <td>2023-01-10 13:15:00+00:00</td>\n",
       "      <td>1326.439126</td>\n",
       "      <td>1328.050000</td>\n",
       "      <td>1326.439126</td>\n",
       "      <td>1327.75</td>\n",
       "      <td>2774.42</td>\n",
       "      <td>1327.75</td>\n",
       "      <td>1327.185526</td>\n",
       "      <td>1327.304864</td>\n",
       "      <td>1327.797288</td>\n",
       "      <td>...</td>\n",
       "      <td>1325.450</td>\n",
       "      <td>True</td>\n",
       "      <td>False</td>\n",
       "      <td>3.117672</td>\n",
       "      <td></td>\n",
       "      <td>NaN</td>\n",
       "      <td>NaN</td>\n",
       "      <td></td>\n",
       "      <td>NaN</td>\n",
       "      <td>1.0</td>\n",
       "    </tr>\n",
       "    <tr>\n",
       "      <th>63990</th>\n",
       "      <td>2023-01-10 13:30:00+00:00</td>\n",
       "      <td>1326.969563</td>\n",
       "      <td>1327.750000</td>\n",
       "      <td>1322.350000</td>\n",
       "      <td>1325.80</td>\n",
       "      <td>10958.78</td>\n",
       "      <td>1325.80</td>\n",
       "      <td>1326.492763</td>\n",
       "      <td>1326.874903</td>\n",
       "      <td>1327.490013</td>\n",
       "      <td>...</td>\n",
       "      <td>1325.450</td>\n",
       "      <td>True</td>\n",
       "      <td>False</td>\n",
       "      <td>3.280696</td>\n",
       "      <td></td>\n",
       "      <td>NaN</td>\n",
       "      <td>NaN</td>\n",
       "      <td></td>\n",
       "      <td>1.0</td>\n",
       "      <td>NaN</td>\n",
       "    </tr>\n",
       "  </tbody>\n",
       "</table>\n",
       "<p>5 rows × 40 columns</p>\n",
       "</div>"
      ],
      "text/plain": [
       "                           date         open         high          low  \\\n",
       "63986 2023-01-10 12:30:00+00:00  1327.963006  1327.963006  1324.600000   \n",
       "63987 2023-01-10 12:45:00+00:00  1327.131503  1327.131503  1324.550000   \n",
       "63988 2023-01-10 13:00:00+00:00  1326.440751  1328.550000  1324.950000   \n",
       "63989 2023-01-10 13:15:00+00:00  1326.439126  1328.050000  1326.439126   \n",
       "63990 2023-01-10 13:30:00+00:00  1326.969563  1327.750000  1322.350000   \n",
       "\n",
       "         close    volume  trend_close_5m  trend_close_15m  trend_close_30m  \\\n",
       "63986  1326.35   5880.27         1326.35      1326.984210      1327.908548   \n",
       "63987  1325.00   6675.05         1325.00      1325.992105      1327.077534   \n",
       "63988  1327.25   6676.78         1327.25      1326.621052      1327.126810   \n",
       "63989  1327.75   2774.42         1327.75      1327.185526      1327.304864   \n",
       "63990  1325.80  10958.78         1325.80      1326.492763      1326.874903   \n",
       "\n",
       "       trend_close_1h  ...  leading_senkou_span_b  cloud_green  cloud_red  \\\n",
       "63986     1328.435493  ...               1325.225         True      False   \n",
       "63987     1327.906956  ...               1325.225         True      False   \n",
       "63988     1327.805886  ...               1325.450         True      False   \n",
       "63989     1327.797288  ...               1325.450         True      False   \n",
       "63990     1327.490013  ...               1325.450         True      False   \n",
       "\n",
       "            atr  enter_tag  enter_long  enter_short  exit_tag  exit_long  \\\n",
       "63986  3.253385                    NaN          NaN                  NaN   \n",
       "63987  3.205393                    NaN          NaN                  NaN   \n",
       "63988  3.233580                    NaN          NaN                  NaN   \n",
       "63989  3.117672                    NaN          NaN                  NaN   \n",
       "63990  3.280696                    NaN          NaN                  1.0   \n",
       "\n",
       "       exit_short  \n",
       "63986         NaN  \n",
       "63987         NaN  \n",
       "63988         NaN  \n",
       "63989         1.0  \n",
       "63990         NaN  \n",
       "\n",
       "[5 rows x 40 columns]"
      ]
     },
     "execution_count": 15,
     "metadata": {},
     "output_type": "execute_result"
    }
   ],
   "source": [
    "# Load strategy using values set above\n",
    "from freqtrade.resolvers import StrategyResolver\n",
    "from freqtrade.data.dataprovider import DataProvider\n",
    "strategy = StrategyResolver.load_strategy(config)\n",
    "strategy.dp = DataProvider(config, None, None)\n",
    "strategy.ft_bot_start()\n",
    "\n",
    "# Generate buy/sell signals using strategy\n",
    "df = strategy.analyze_ticker(candles, {'pair': pair})\n",
    "df.tail()"
   ]
  },
  {
   "cell_type": "markdown",
   "metadata": {},
   "source": [
    "### Display the trade details\n",
    "\n",
    "* Note that using `data.head()` would also work, however most indicators have some \"startup\" data at the top of the dataframe.\n",
    "* Some possible problems\n",
    "    * Columns with NaN values at the end of the dataframe\n",
    "    * Columns used in `crossed*()` functions with completely different units\n",
    "* Comparison with full backtest\n",
    "    * having 200 buy signals as output for one pair from `analyze_ticker()` does not necessarily mean that 200 trades will be made during backtesting.\n",
    "    * Assuming you use only one condition such as, `df['rsi'] < 30` as buy condition, this will generate multiple \"buy\" signals for each pair in sequence (until rsi returns > 29). The bot will only buy on the first of these signals (and also only if a trade-slot (\"max_open_trades\") is still available), or on one of the middle signals, as soon as a \"slot\" becomes available.  \n"
   ]
  },
  {
   "cell_type": "code",
   "execution_count": 16,
   "metadata": {},
   "outputs": [
    {
     "name": "stdout",
     "output_type": "stream",
     "text": [
      "Generated 8791.0 entry signals\n"
     ]
    },
    {
     "data": {
      "text/html": [
       "<div>\n",
       "<style scoped>\n",
       "    .dataframe tbody tr th:only-of-type {\n",
       "        vertical-align: middle;\n",
       "    }\n",
       "\n",
       "    .dataframe tbody tr th {\n",
       "        vertical-align: top;\n",
       "    }\n",
       "\n",
       "    .dataframe thead th {\n",
       "        text-align: right;\n",
       "    }\n",
       "</style>\n",
       "<table border=\"1\" class=\"dataframe\">\n",
       "  <thead>\n",
       "    <tr style=\"text-align: right;\">\n",
       "      <th></th>\n",
       "      <th>date</th>\n",
       "      <th>open</th>\n",
       "      <th>high</th>\n",
       "      <th>low</th>\n",
       "      <th>close</th>\n",
       "      <th>volume</th>\n",
       "      <th>trend_close_5m</th>\n",
       "      <th>trend_close_15m</th>\n",
       "      <th>trend_close_30m</th>\n",
       "      <th>trend_close_1h</th>\n",
       "      <th>...</th>\n",
       "      <th>leading_senkou_span_b</th>\n",
       "      <th>cloud_green</th>\n",
       "      <th>cloud_red</th>\n",
       "      <th>atr</th>\n",
       "      <th>enter_tag</th>\n",
       "      <th>enter_long</th>\n",
       "      <th>enter_short</th>\n",
       "      <th>exit_tag</th>\n",
       "      <th>exit_long</th>\n",
       "      <th>exit_short</th>\n",
       "    </tr>\n",
       "    <tr>\n",
       "      <th>date</th>\n",
       "      <th></th>\n",
       "      <th></th>\n",
       "      <th></th>\n",
       "      <th></th>\n",
       "      <th></th>\n",
       "      <th></th>\n",
       "      <th></th>\n",
       "      <th></th>\n",
       "      <th></th>\n",
       "      <th></th>\n",
       "      <th></th>\n",
       "      <th></th>\n",
       "      <th></th>\n",
       "      <th></th>\n",
       "      <th></th>\n",
       "      <th></th>\n",
       "      <th></th>\n",
       "      <th></th>\n",
       "      <th></th>\n",
       "      <th></th>\n",
       "      <th></th>\n",
       "    </tr>\n",
       "  </thead>\n",
       "  <tbody>\n",
       "    <tr>\n",
       "      <th>2023-01-10 12:30:00+00:00</th>\n",
       "      <td>2023-01-10 12:30:00+00:00</td>\n",
       "      <td>1327.963006</td>\n",
       "      <td>1327.963006</td>\n",
       "      <td>1324.600000</td>\n",
       "      <td>1326.35</td>\n",
       "      <td>5880.27</td>\n",
       "      <td>1326.35</td>\n",
       "      <td>1326.984210</td>\n",
       "      <td>1327.908548</td>\n",
       "      <td>1328.435493</td>\n",
       "      <td>...</td>\n",
       "      <td>1325.225</td>\n",
       "      <td>True</td>\n",
       "      <td>False</td>\n",
       "      <td>3.253385</td>\n",
       "      <td></td>\n",
       "      <td>NaN</td>\n",
       "      <td>NaN</td>\n",
       "      <td></td>\n",
       "      <td>NaN</td>\n",
       "      <td>NaN</td>\n",
       "    </tr>\n",
       "    <tr>\n",
       "      <th>2023-01-10 12:45:00+00:00</th>\n",
       "      <td>2023-01-10 12:45:00+00:00</td>\n",
       "      <td>1327.131503</td>\n",
       "      <td>1327.131503</td>\n",
       "      <td>1324.550000</td>\n",
       "      <td>1325.00</td>\n",
       "      <td>6675.05</td>\n",
       "      <td>1325.00</td>\n",
       "      <td>1325.992105</td>\n",
       "      <td>1327.077534</td>\n",
       "      <td>1327.906956</td>\n",
       "      <td>...</td>\n",
       "      <td>1325.225</td>\n",
       "      <td>True</td>\n",
       "      <td>False</td>\n",
       "      <td>3.205393</td>\n",
       "      <td></td>\n",
       "      <td>NaN</td>\n",
       "      <td>NaN</td>\n",
       "      <td></td>\n",
       "      <td>NaN</td>\n",
       "      <td>NaN</td>\n",
       "    </tr>\n",
       "    <tr>\n",
       "      <th>2023-01-10 13:00:00+00:00</th>\n",
       "      <td>2023-01-10 13:00:00+00:00</td>\n",
       "      <td>1326.440751</td>\n",
       "      <td>1328.550000</td>\n",
       "      <td>1324.950000</td>\n",
       "      <td>1327.25</td>\n",
       "      <td>6676.78</td>\n",
       "      <td>1327.25</td>\n",
       "      <td>1326.621052</td>\n",
       "      <td>1327.126810</td>\n",
       "      <td>1327.805886</td>\n",
       "      <td>...</td>\n",
       "      <td>1325.450</td>\n",
       "      <td>True</td>\n",
       "      <td>False</td>\n",
       "      <td>3.233580</td>\n",
       "      <td></td>\n",
       "      <td>NaN</td>\n",
       "      <td>NaN</td>\n",
       "      <td></td>\n",
       "      <td>NaN</td>\n",
       "      <td>NaN</td>\n",
       "    </tr>\n",
       "    <tr>\n",
       "      <th>2023-01-10 13:15:00+00:00</th>\n",
       "      <td>2023-01-10 13:15:00+00:00</td>\n",
       "      <td>1326.439126</td>\n",
       "      <td>1328.050000</td>\n",
       "      <td>1326.439126</td>\n",
       "      <td>1327.75</td>\n",
       "      <td>2774.42</td>\n",
       "      <td>1327.75</td>\n",
       "      <td>1327.185526</td>\n",
       "      <td>1327.304864</td>\n",
       "      <td>1327.797288</td>\n",
       "      <td>...</td>\n",
       "      <td>1325.450</td>\n",
       "      <td>True</td>\n",
       "      <td>False</td>\n",
       "      <td>3.117672</td>\n",
       "      <td></td>\n",
       "      <td>NaN</td>\n",
       "      <td>NaN</td>\n",
       "      <td></td>\n",
       "      <td>NaN</td>\n",
       "      <td>1.0</td>\n",
       "    </tr>\n",
       "    <tr>\n",
       "      <th>2023-01-10 13:30:00+00:00</th>\n",
       "      <td>2023-01-10 13:30:00+00:00</td>\n",
       "      <td>1326.969563</td>\n",
       "      <td>1327.750000</td>\n",
       "      <td>1322.350000</td>\n",
       "      <td>1325.80</td>\n",
       "      <td>10958.78</td>\n",
       "      <td>1325.80</td>\n",
       "      <td>1326.492763</td>\n",
       "      <td>1326.874903</td>\n",
       "      <td>1327.490013</td>\n",
       "      <td>...</td>\n",
       "      <td>1325.450</td>\n",
       "      <td>True</td>\n",
       "      <td>False</td>\n",
       "      <td>3.280696</td>\n",
       "      <td></td>\n",
       "      <td>NaN</td>\n",
       "      <td>NaN</td>\n",
       "      <td></td>\n",
       "      <td>1.0</td>\n",
       "      <td>NaN</td>\n",
       "    </tr>\n",
       "  </tbody>\n",
       "</table>\n",
       "<p>5 rows × 40 columns</p>\n",
       "</div>"
      ],
      "text/plain": [
       "                                               date         open         high  \\\n",
       "date                                                                            \n",
       "2023-01-10 12:30:00+00:00 2023-01-10 12:30:00+00:00  1327.963006  1327.963006   \n",
       "2023-01-10 12:45:00+00:00 2023-01-10 12:45:00+00:00  1327.131503  1327.131503   \n",
       "2023-01-10 13:00:00+00:00 2023-01-10 13:00:00+00:00  1326.440751  1328.550000   \n",
       "2023-01-10 13:15:00+00:00 2023-01-10 13:15:00+00:00  1326.439126  1328.050000   \n",
       "2023-01-10 13:30:00+00:00 2023-01-10 13:30:00+00:00  1326.969563  1327.750000   \n",
       "\n",
       "                                   low    close    volume  trend_close_5m  \\\n",
       "date                                                                        \n",
       "2023-01-10 12:30:00+00:00  1324.600000  1326.35   5880.27         1326.35   \n",
       "2023-01-10 12:45:00+00:00  1324.550000  1325.00   6675.05         1325.00   \n",
       "2023-01-10 13:00:00+00:00  1324.950000  1327.25   6676.78         1327.25   \n",
       "2023-01-10 13:15:00+00:00  1326.439126  1327.75   2774.42         1327.75   \n",
       "2023-01-10 13:30:00+00:00  1322.350000  1325.80  10958.78         1325.80   \n",
       "\n",
       "                           trend_close_15m  trend_close_30m  trend_close_1h  \\\n",
       "date                                                                          \n",
       "2023-01-10 12:30:00+00:00      1326.984210      1327.908548     1328.435493   \n",
       "2023-01-10 12:45:00+00:00      1325.992105      1327.077534     1327.906956   \n",
       "2023-01-10 13:00:00+00:00      1326.621052      1327.126810     1327.805886   \n",
       "2023-01-10 13:15:00+00:00      1327.185526      1327.304864     1327.797288   \n",
       "2023-01-10 13:30:00+00:00      1326.492763      1326.874903     1327.490013   \n",
       "\n",
       "                           ...  leading_senkou_span_b  cloud_green  cloud_red  \\\n",
       "date                       ...                                                  \n",
       "2023-01-10 12:30:00+00:00  ...               1325.225         True      False   \n",
       "2023-01-10 12:45:00+00:00  ...               1325.225         True      False   \n",
       "2023-01-10 13:00:00+00:00  ...               1325.450         True      False   \n",
       "2023-01-10 13:15:00+00:00  ...               1325.450         True      False   \n",
       "2023-01-10 13:30:00+00:00  ...               1325.450         True      False   \n",
       "\n",
       "                                atr  enter_tag  enter_long  enter_short  \\\n",
       "date                                                                      \n",
       "2023-01-10 12:30:00+00:00  3.253385                    NaN          NaN   \n",
       "2023-01-10 12:45:00+00:00  3.205393                    NaN          NaN   \n",
       "2023-01-10 13:00:00+00:00  3.233580                    NaN          NaN   \n",
       "2023-01-10 13:15:00+00:00  3.117672                    NaN          NaN   \n",
       "2023-01-10 13:30:00+00:00  3.280696                    NaN          NaN   \n",
       "\n",
       "                           exit_tag  exit_long  exit_short  \n",
       "date                                                        \n",
       "2023-01-10 12:30:00+00:00                  NaN         NaN  \n",
       "2023-01-10 12:45:00+00:00                  NaN         NaN  \n",
       "2023-01-10 13:00:00+00:00                  NaN         NaN  \n",
       "2023-01-10 13:15:00+00:00                  NaN         1.0  \n",
       "2023-01-10 13:30:00+00:00                  1.0         NaN  \n",
       "\n",
       "[5 rows x 40 columns]"
      ]
     },
     "execution_count": 16,
     "metadata": {},
     "output_type": "execute_result"
    }
   ],
   "source": [
    "# Report results\n",
    "print(f\"Generated {df['enter_long'].sum()} entry signals\")\n",
    "data = df.set_index('date', drop=False)\n",
    "data.tail()"
   ]
  },
  {
   "cell_type": "markdown",
   "metadata": {},
   "source": [
    "## Load existing objects into a Jupyter notebook\n",
    "\n",
    "The following cells assume that you have already generated data using the cli.  \n",
    "They will allow you to drill deeper into your results, and perform analysis which otherwise would make the output very difficult to digest due to information overload."
   ]
  },
  {
   "cell_type": "markdown",
   "metadata": {},
   "source": [
    "### Load backtest results to pandas dataframe\n",
    "\n",
    "Analyze a trades dataframe (also used below for plotting)"
   ]
  },
  {
   "cell_type": "code",
   "execution_count": 17,
   "metadata": {},
   "outputs": [],
   "source": [
    "from freqtrade.data.btanalysis import load_backtest_data, load_backtest_stats\n",
    "\n",
    "# if backtest_dir points to a directory, it'll automatically load the last backtest file.\n",
    "backtest_dir = config[\"user_data_dir\"] / \"backtest_results\"\n",
    "# backtest_dir can also point to a specific file\n",
    "# backtest_dir = config[\"user_data_dir\"] / \"backtest_results/backtest-result-2020-07-01_20-04-22.json\""
   ]
  },
  {
   "cell_type": "code",
   "execution_count": 18,
   "metadata": {},
   "outputs": [
    {
     "name": "stdout",
     "output_type": "stream",
     "text": [
      "[{'key': 'BTC/USDT:USDT', 'trades': 4103, 'profit_mean': 0.003880479728761839, 'profit_mean_pct': 0.39, 'profit_sum': 15.921608327109826, 'profit_sum_pct': 1592.16, 'profit_total_abs': 16645.31188855, 'profit_total': 8.322655944275, 'profit_total_pct': 832.27, 'duration_avg': '1:46:00', 'wins': 2043, 'draws': 291, 'losses': 1769, 'winrate': 0.4979283451133317}, {'key': 'ETH/USDT:USDT', 'trades': 1786, 'profit_mean': 0.006085948511349759, 'profit_mean_pct': 0.61, 'profit_sum': 10.86950404127067, 'profit_sum_pct': 1086.95, 'profit_total_abs': 7271.01383806, 'profit_total': 3.63550691903, 'profit_total_pct': 363.55, 'duration_avg': '1:42:00', 'wins': 997, 'draws': 115, 'losses': 674, 'winrate': 0.5582306830907054}, {'key': 'TOTAL', 'trades': 5889, 'profit_mean': 0.004549348339001612, 'profit_mean_pct': 0.45, 'profit_sum': 26.791112368380496, 'profit_sum_pct': 2679.11, 'profit_total_abs': 23916.325726609997, 'profit_total': 11.958162863305, 'profit_total_pct': 1195.82, 'duration_avg': '1:45:00', 'wins': 3040, 'draws': 406, 'losses': 2443, 'winrate': 0.5162166751570725}]\n",
      "['ETH/USDT:USDT', 'BTC/USDT:USDT']\n",
      "0.12582318741911946\n",
      "2022-12-17 01:30:00\n",
      "2023-01-08 08:45:00\n",
      "[{'key': 'LSv1', 'trades': 5889, 'profit_mean': 0.004549348339001612, 'profit_mean_pct': 0.45, 'profit_sum': 26.791112368380496, 'profit_sum_pct': 2679.11, 'profit_total_abs': 23916.325726609997, 'profit_total': 11.958162863305, 'profit_total_pct': 1195.82, 'duration_avg': '1:45:00', 'wins': 3040, 'draws': 406, 'losses': 2443, 'winrate': 0.5162166751570725, 'max_drawdown_account': 0.005117491037657092, 'max_drawdown_abs': '133.164'}]\n"
     ]
    }
   ],
   "source": [
    "# You can get the full backtest statistics by using the following command.\n",
    "# This contains all information used to generate the backtest result.\n",
    "stats = load_backtest_stats(backtest_dir)\n",
    "\n",
    "strategy = 'LSv1'\n",
    "# All statistics are available per strategy, so if `--strategy-list` was used during backtest, this will be reflected here as well.\n",
    "# Example usages:\n",
    "print(stats['strategy'][strategy]['results_per_pair'])\n",
    "# Get pairlist used for this backtest\n",
    "print(stats['strategy'][strategy]['pairlist'])\n",
    "# Get market change (average change of all pairs from start to end of the backtest period)\n",
    "print(stats['strategy'][strategy]['market_change'])\n",
    "# Maximum drawdown ()\n",
    "#print(stats['strategy'][strategy]['max_drawdown'])\n",
    "# Maximum drawdown start and end\n",
    "print(stats['strategy'][strategy]['drawdown_start'])\n",
    "print(stats['strategy'][strategy]['drawdown_end'])\n",
    "\n",
    "\n",
    "# Get strategy comparison (only relevant if multiple strategies were compared)\n",
    "print(stats['strategy_comparison'])\n"
   ]
  },
  {
   "cell_type": "code",
   "execution_count": 19,
   "metadata": {},
   "outputs": [
    {
     "data": {
      "text/plain": [
       "pair           exit_reason\n",
       "BTC/USDT:USDT  exit_signal    2066\n",
       "               roi            2037\n",
       "ETH/USDT:USDT  roi             963\n",
       "               exit_signal     823\n",
       "Name: count, dtype: int64"
      ]
     },
     "execution_count": 19,
     "metadata": {},
     "output_type": "execute_result"
    }
   ],
   "source": [
    "# Load backtested trades as dataframe\n",
    "trades = load_backtest_data(backtest_dir)\n",
    "\n",
    "# Show value-counts per pair\n",
    "trades.groupby(\"pair\")[\"exit_reason\"].value_counts()"
   ]
  },
  {
   "cell_type": "markdown",
   "metadata": {},
   "source": [
    "## Plotting daily profit / equity line"
   ]
  },
  {
   "cell_type": "code",
   "execution_count": 20,
   "metadata": {},
   "outputs": [
    {
     "data": {
      "application/vnd.plotly.v1+json": {
       "config": {
        "plotlyServerURL": "https://plot.ly"
       },
       "data": [
        {
         "hovertemplate": "dates=%{x}<br>equity_daily=%{y}<extra></extra>",
         "legendgroup": "",
         "line": {
          "color": "#636efa",
          "dash": "solid"
         },
         "marker": {
          "symbol": "circle"
         },
         "mode": "lines",
         "name": "",
         "orientation": "v",
         "showlegend": false,
         "type": "scatter",
         "x": [
          "2021-01-02",
          "2021-01-03",
          "2021-01-04",
          "2021-01-05",
          "2021-01-06",
          "2021-01-07",
          "2021-01-08",
          "2021-01-09",
          "2021-01-10",
          "2021-01-11",
          "2021-01-12",
          "2021-01-13",
          "2021-01-14",
          "2021-01-15",
          "2021-01-16",
          "2021-01-17",
          "2021-01-18",
          "2021-01-19",
          "2021-01-20",
          "2021-01-21",
          "2021-01-22",
          "2021-01-23",
          "2021-01-24",
          "2021-01-25",
          "2021-01-26",
          "2021-01-27",
          "2021-01-28",
          "2021-01-29",
          "2021-01-30",
          "2021-01-31",
          "2021-02-01",
          "2021-02-02",
          "2021-02-03",
          "2021-02-04",
          "2021-02-05",
          "2021-02-06",
          "2021-02-07",
          "2021-02-08",
          "2021-02-09",
          "2021-02-10",
          "2021-02-11",
          "2021-02-12",
          "2021-02-13",
          "2021-02-14",
          "2021-02-15",
          "2021-02-16",
          "2021-02-17",
          "2021-02-18",
          "2021-02-19",
          "2021-02-20",
          "2021-02-21",
          "2021-02-22",
          "2021-02-23",
          "2021-02-24",
          "2021-02-25",
          "2021-02-26",
          "2021-02-27",
          "2021-02-28",
          "2021-03-01",
          "2021-03-02",
          "2021-03-03",
          "2021-03-04",
          "2021-03-05",
          "2021-03-06",
          "2021-03-07",
          "2021-03-08",
          "2021-03-09",
          "2021-03-10",
          "2021-03-11",
          "2021-03-12",
          "2021-03-13",
          "2021-03-14",
          "2021-03-15",
          "2021-03-16",
          "2021-03-17",
          "2021-03-18",
          "2021-03-19",
          "2021-03-20",
          "2021-03-21",
          "2021-03-22",
          "2021-03-23",
          "2021-03-24",
          "2021-03-25",
          "2021-03-26",
          "2021-03-27",
          "2021-03-28",
          "2021-03-29",
          "2021-03-30",
          "2021-03-31",
          "2021-04-01",
          "2021-04-02",
          "2021-04-03",
          "2021-04-04",
          "2021-04-05",
          "2021-04-06",
          "2021-04-07",
          "2021-04-08",
          "2021-04-09",
          "2021-04-10",
          "2021-04-11",
          "2021-04-12",
          "2021-04-13",
          "2021-04-14",
          "2021-04-15",
          "2021-04-16",
          "2021-04-17",
          "2021-04-18",
          "2021-04-19",
          "2021-04-20",
          "2021-04-21",
          "2021-04-22",
          "2021-04-23",
          "2021-04-24",
          "2021-04-25",
          "2021-04-26",
          "2021-04-27",
          "2021-04-28",
          "2021-04-29",
          "2021-04-30",
          "2021-05-01",
          "2021-05-02",
          "2021-05-03",
          "2021-05-04",
          "2021-05-05",
          "2021-05-06",
          "2021-05-07",
          "2021-05-08",
          "2021-05-09",
          "2021-05-10",
          "2021-05-11",
          "2021-05-12",
          "2021-05-13",
          "2021-05-14",
          "2021-05-15",
          "2021-05-16",
          "2021-05-17",
          "2021-05-18",
          "2021-05-19",
          "2021-05-20",
          "2021-05-21",
          "2021-05-22",
          "2021-05-23",
          "2021-05-24",
          "2021-05-25",
          "2021-05-26",
          "2021-05-27",
          "2021-05-28",
          "2021-05-29",
          "2021-05-30",
          "2021-05-31",
          "2021-06-01",
          "2021-06-02",
          "2021-06-03",
          "2021-06-04",
          "2021-06-05",
          "2021-06-06",
          "2021-06-07",
          "2021-06-08",
          "2021-06-09",
          "2021-06-10",
          "2021-06-11",
          "2021-06-12",
          "2021-06-13",
          "2021-06-14",
          "2021-06-15",
          "2021-06-16",
          "2021-06-17",
          "2021-06-18",
          "2021-06-19",
          "2021-06-20",
          "2021-06-21",
          "2021-06-22",
          "2021-06-23",
          "2021-06-24",
          "2021-06-25",
          "2021-06-26",
          "2021-06-27",
          "2021-06-28",
          "2021-06-29",
          "2021-06-30",
          "2021-07-01",
          "2021-07-02",
          "2021-07-03",
          "2021-07-04",
          "2021-07-05",
          "2021-07-06",
          "2021-07-07",
          "2021-07-08",
          "2021-07-09",
          "2021-07-10",
          "2021-07-11",
          "2021-07-12",
          "2021-07-13",
          "2021-07-14",
          "2021-07-15",
          "2021-07-16",
          "2021-07-17",
          "2021-07-18",
          "2021-07-19",
          "2021-07-20",
          "2021-07-21",
          "2021-07-22",
          "2021-07-23",
          "2021-07-24",
          "2021-07-25",
          "2021-07-26",
          "2021-07-27",
          "2021-07-28",
          "2021-07-29",
          "2021-07-30",
          "2021-07-31",
          "2021-08-01",
          "2021-08-02",
          "2021-08-03",
          "2021-08-04",
          "2021-08-05",
          "2021-08-06",
          "2021-08-07",
          "2021-08-08",
          "2021-08-09",
          "2021-08-10",
          "2021-08-11",
          "2021-08-12",
          "2021-08-13",
          "2021-08-14",
          "2021-08-15",
          "2021-08-16",
          "2021-08-17",
          "2021-08-18",
          "2021-08-19",
          "2021-08-20",
          "2021-08-21",
          "2021-08-22",
          "2021-08-23",
          "2021-08-24",
          "2021-08-25",
          "2021-08-26",
          "2021-08-27",
          "2021-08-28",
          "2021-08-29",
          "2021-08-30",
          "2021-08-31",
          "2021-09-01",
          "2021-09-02",
          "2021-09-03",
          "2021-09-04",
          "2021-09-05",
          "2021-09-06",
          "2021-09-07",
          "2021-09-08",
          "2021-09-09",
          "2021-09-10",
          "2021-09-11",
          "2021-09-12",
          "2021-09-13",
          "2021-09-14",
          "2021-09-15",
          "2021-09-16",
          "2021-09-17",
          "2021-09-18",
          "2021-09-19",
          "2021-09-20",
          "2021-09-21",
          "2021-09-22",
          "2021-09-23",
          "2021-09-24",
          "2021-09-25",
          "2021-09-26",
          "2021-09-27",
          "2021-09-28",
          "2021-09-29",
          "2021-09-30",
          "2021-10-01",
          "2021-10-02",
          "2021-10-03",
          "2021-10-04",
          "2021-10-05",
          "2021-10-06",
          "2021-10-07",
          "2021-10-08",
          "2021-10-09",
          "2021-10-10",
          "2021-10-11",
          "2021-10-12",
          "2021-10-13",
          "2021-10-14",
          "2021-10-15",
          "2021-10-16",
          "2021-10-17",
          "2021-10-18",
          "2021-10-19",
          "2021-10-20",
          "2021-10-21",
          "2021-10-22",
          "2021-10-23",
          "2021-10-24",
          "2021-10-25",
          "2021-10-26",
          "2021-10-27",
          "2021-10-28",
          "2021-10-29",
          "2021-10-30",
          "2021-10-31",
          "2021-11-01",
          "2021-11-02",
          "2021-11-03",
          "2021-11-04",
          "2021-11-05",
          "2021-11-06",
          "2021-11-07",
          "2021-11-08",
          "2021-11-09",
          "2021-11-10",
          "2021-11-11",
          "2021-11-12",
          "2021-11-13",
          "2021-11-14",
          "2021-11-15",
          "2021-11-16",
          "2021-11-17",
          "2021-11-18",
          "2021-11-19",
          "2021-11-20",
          "2021-11-21",
          "2021-11-22",
          "2021-11-23",
          "2021-11-24",
          "2021-11-25",
          "2021-11-26",
          "2021-11-27",
          "2021-11-28",
          "2021-11-29",
          "2021-11-30",
          "2021-12-01",
          "2021-12-02",
          "2021-12-03",
          "2021-12-04",
          "2021-12-05",
          "2021-12-06",
          "2021-12-07",
          "2021-12-08",
          "2021-12-09",
          "2021-12-10",
          "2021-12-11",
          "2021-12-12",
          "2021-12-13",
          "2021-12-14",
          "2021-12-15",
          "2021-12-16",
          "2021-12-17",
          "2021-12-18",
          "2021-12-19",
          "2021-12-20",
          "2021-12-21",
          "2021-12-22",
          "2021-12-23",
          "2021-12-24",
          "2021-12-25",
          "2021-12-26",
          "2021-12-27",
          "2021-12-28",
          "2021-12-29",
          "2021-12-30",
          "2021-12-31",
          "2022-01-01",
          "2022-01-02",
          "2022-01-03",
          "2022-01-04",
          "2022-01-05",
          "2022-01-06",
          "2022-01-07",
          "2022-01-08",
          "2022-01-09",
          "2022-01-10",
          "2022-01-11",
          "2022-01-12",
          "2022-01-13",
          "2022-01-14",
          "2022-01-15",
          "2022-01-16",
          "2022-01-17",
          "2022-01-18",
          "2022-01-19",
          "2022-01-20",
          "2022-01-21",
          "2022-01-22",
          "2022-01-23",
          "2022-01-24",
          "2022-01-25",
          "2022-01-26",
          "2022-01-27",
          "2022-01-28",
          "2022-01-29",
          "2022-01-30",
          "2022-01-31",
          "2022-02-01",
          "2022-02-02",
          "2022-02-03",
          "2022-02-04",
          "2022-02-05",
          "2022-02-06",
          "2022-02-07",
          "2022-02-08",
          "2022-02-09",
          "2022-02-10",
          "2022-02-11",
          "2022-02-12",
          "2022-02-13",
          "2022-02-14",
          "2022-02-15",
          "2022-02-16",
          "2022-02-17",
          "2022-02-18",
          "2022-02-19",
          "2022-02-20",
          "2022-02-21",
          "2022-02-22",
          "2022-02-23",
          "2022-02-24",
          "2022-02-25",
          "2022-02-26",
          "2022-02-27",
          "2022-02-28",
          "2022-03-01",
          "2022-03-02",
          "2022-03-03",
          "2022-03-04",
          "2022-03-05",
          "2022-03-06",
          "2022-03-07",
          "2022-03-08",
          "2022-03-09",
          "2022-03-10",
          "2022-03-11",
          "2022-03-12",
          "2022-03-13",
          "2022-03-14",
          "2022-03-15",
          "2022-03-16",
          "2022-03-17",
          "2022-03-18",
          "2022-03-19",
          "2022-03-20",
          "2022-03-21",
          "2022-03-22",
          "2022-03-23",
          "2022-03-24",
          "2022-03-25",
          "2022-03-26",
          "2022-03-27",
          "2022-03-28",
          "2022-03-29",
          "2022-03-30",
          "2022-03-31",
          "2022-04-01",
          "2022-04-02",
          "2022-04-03",
          "2022-04-04",
          "2022-04-05",
          "2022-04-06",
          "2022-04-07",
          "2022-04-08",
          "2022-04-09",
          "2022-04-10",
          "2022-04-11",
          "2022-04-12",
          "2022-04-13",
          "2022-04-14",
          "2022-04-15",
          "2022-04-16",
          "2022-04-17",
          "2022-04-18",
          "2022-04-19",
          "2022-04-20",
          "2022-04-21",
          "2022-04-22",
          "2022-04-23",
          "2022-04-24",
          "2022-04-25",
          "2022-04-26",
          "2022-04-27",
          "2022-04-28",
          "2022-04-29",
          "2022-04-30",
          "2022-05-01",
          "2022-05-02",
          "2022-05-03",
          "2022-05-04",
          "2022-05-05",
          "2022-05-06",
          "2022-05-07",
          "2022-05-08",
          "2022-05-09",
          "2022-05-10",
          "2022-05-11",
          "2022-05-12",
          "2022-05-13",
          "2022-05-14",
          "2022-05-15",
          "2022-05-16",
          "2022-05-17",
          "2022-05-18",
          "2022-05-19",
          "2022-05-20",
          "2022-05-21",
          "2022-05-22",
          "2022-05-23",
          "2022-05-24",
          "2022-05-25",
          "2022-05-26",
          "2022-05-27",
          "2022-05-28",
          "2022-05-29",
          "2022-05-30",
          "2022-05-31",
          "2022-06-01",
          "2022-06-02",
          "2022-06-03",
          "2022-06-04",
          "2022-06-05",
          "2022-06-06",
          "2022-06-07",
          "2022-06-08",
          "2022-06-09",
          "2022-06-10",
          "2022-06-11",
          "2022-06-12",
          "2022-06-13",
          "2022-06-14",
          "2022-06-15",
          "2022-06-16",
          "2022-06-17",
          "2022-06-18",
          "2022-06-19",
          "2022-06-20",
          "2022-06-21",
          "2022-06-22",
          "2022-06-23",
          "2022-06-24",
          "2022-06-25",
          "2022-06-26",
          "2022-06-27",
          "2022-06-28",
          "2022-06-29",
          "2022-06-30",
          "2022-07-01",
          "2022-07-02",
          "2022-07-03",
          "2022-07-04",
          "2022-07-05",
          "2022-07-06",
          "2022-07-07",
          "2022-07-08",
          "2022-07-09",
          "2022-07-10",
          "2022-07-11",
          "2022-07-12",
          "2022-07-13",
          "2022-07-14",
          "2022-07-15",
          "2022-07-16",
          "2022-07-17",
          "2022-07-18",
          "2022-07-19",
          "2022-07-20",
          "2022-07-21",
          "2022-07-22",
          "2022-07-23",
          "2022-07-24",
          "2022-07-25",
          "2022-07-26",
          "2022-07-27",
          "2022-07-28",
          "2022-07-29",
          "2022-07-30",
          "2022-07-31",
          "2022-08-01",
          "2022-08-02",
          "2022-08-03",
          "2022-08-04",
          "2022-08-05",
          "2022-08-06",
          "2022-08-07",
          "2022-08-08",
          "2022-08-09",
          "2022-08-10",
          "2022-08-11",
          "2022-08-12",
          "2022-08-13",
          "2022-08-14",
          "2022-08-15",
          "2022-08-16",
          "2022-08-17",
          "2022-08-18",
          "2022-08-19",
          "2022-08-20",
          "2022-08-21",
          "2022-08-22",
          "2022-08-23",
          "2022-08-24",
          "2022-08-25",
          "2022-08-26",
          "2022-08-27",
          "2022-08-28",
          "2022-08-29",
          "2022-08-30",
          "2022-08-31",
          "2022-09-01",
          "2022-09-02",
          "2022-09-03",
          "2022-09-04",
          "2022-09-05",
          "2022-09-06",
          "2022-09-07",
          "2022-09-08",
          "2022-09-09",
          "2022-09-10",
          "2022-09-11",
          "2022-09-12",
          "2022-09-13",
          "2022-09-14",
          "2022-09-15",
          "2022-09-16",
          "2022-09-17",
          "2022-09-18",
          "2022-09-19",
          "2022-09-20",
          "2022-09-21",
          "2022-09-22",
          "2022-09-23",
          "2022-09-24",
          "2022-09-25",
          "2022-09-26",
          "2022-09-27",
          "2022-09-28",
          "2022-09-29",
          "2022-09-30",
          "2022-10-01",
          "2022-10-02",
          "2022-10-03",
          "2022-10-04",
          "2022-10-05",
          "2022-10-06",
          "2022-10-07",
          "2022-10-08",
          "2022-10-09",
          "2022-10-10",
          "2022-10-11",
          "2022-10-12",
          "2022-10-13",
          "2022-10-14",
          "2022-10-15",
          "2022-10-16",
          "2022-10-17",
          "2022-10-18",
          "2022-10-19",
          "2022-10-20",
          "2022-10-21",
          "2022-10-22",
          "2022-10-23",
          "2022-10-24",
          "2022-10-25",
          "2022-10-26",
          "2022-10-27",
          "2022-10-28",
          "2022-10-29",
          "2022-10-30",
          "2022-10-31",
          "2022-11-01",
          "2022-11-02",
          "2022-11-03",
          "2022-11-04",
          "2022-11-05",
          "2022-11-06",
          "2022-11-07",
          "2022-11-08",
          "2022-11-09",
          "2022-11-10",
          "2022-11-11",
          "2022-11-12",
          "2022-11-13",
          "2022-11-14",
          "2022-11-15",
          "2022-11-16",
          "2022-11-17",
          "2022-11-18",
          "2022-11-19",
          "2022-11-20",
          "2022-11-21",
          "2022-11-22",
          "2022-11-23",
          "2022-11-24",
          "2022-11-25",
          "2022-11-26",
          "2022-11-27",
          "2022-11-28",
          "2022-11-29",
          "2022-11-30",
          "2022-12-01",
          "2022-12-02",
          "2022-12-03",
          "2022-12-04",
          "2022-12-05",
          "2022-12-06",
          "2022-12-07",
          "2022-12-08",
          "2022-12-09",
          "2022-12-10",
          "2022-12-11",
          "2022-12-12",
          "2022-12-13",
          "2022-12-14",
          "2022-12-15",
          "2022-12-16",
          "2022-12-17",
          "2022-12-18",
          "2022-12-19",
          "2022-12-20",
          "2022-12-21",
          "2022-12-22",
          "2022-12-23",
          "2022-12-24",
          "2022-12-25",
          "2022-12-26",
          "2022-12-27",
          "2022-12-28",
          "2022-12-29",
          "2022-12-30",
          "2022-12-31",
          "2023-01-01",
          "2023-01-02",
          "2023-01-03",
          "2023-01-04",
          "2023-01-05",
          "2023-01-06",
          "2023-01-07",
          "2023-01-08",
          "2023-01-09",
          "2023-01-10"
         ],
         "xaxis": "x",
         "y": [
          10.63867282,
          19.500222020000002,
          27.090020310000003,
          41.72103321,
          48.83904349,
          61.05073318,
          71.38326789,
          73.20137884,
          82.68824383,
          134.53248804,
          138.53824699,
          161.12683049,
          170.74758805,
          186.75900793,
          189.4166214,
          199.83208837,
          204.60003238000002,
          208.3011448,
          221.77112489,
          239.93906963,
          249.29930165000002,
          248.98607766,
          250.04534912,
          258.97023842,
          268.25322682999996,
          279.41966278999996,
          293.07290966999994,
          317.08290708999994,
          319.2161159599999,
          325.45329079999993,
          327.21938787999994,
          336.98884391999997,
          341.0747621,
          342.28354605,
          345.45216982,
          358.81141479999997,
          364.15046032,
          398.50673214,
          395.31588148,
          400.27634428,
          407.22579951,
          406.42331726,
          407.88274723999996,
          416.38691280999996,
          420.50813786,
          421.80486177,
          431.44961845,
          431.04347412,
          446.05746819999996,
          449.52999523999995,
          453.71311621999996,
          469.92251939999994,
          497.02747358999994,
          497.26769719999993,
          505.17872399999993,
          523.8812054299999,
          522.4188944499999,
          532.1126961499999,
          544.8335251099999,
          545.5994137899999,
          557.3489563699999,
          565.0051101799999,
          572.9250074799999,
          576.9678371299999,
          582.1589137899999,
          587.4948707699999,
          593.1507939799999,
          600.3356816899999,
          607.8016083999999,
          603.6876254199999,
          617.2110221999999,
          616.4092626699999,
          633.2311611499998,
          639.1952820799999,
          649.7684098999998,
          656.0076759699998,
          659.8393662599998,
          666.9802062999997,
          681.8769847799997,
          702.7637898499997,
          704.5714747199997,
          731.1173704099997,
          743.1170802399997,
          757.5892563199998,
          773.0571676399998,
          771.3572643199998,
          790.6710254599998,
          800.0193609599997,
          805.2841170799998,
          805.4333736999997,
          822.8056509199997,
          825.2525941399997,
          830.8661733899997,
          843.4371605799997,
          839.2021302699998,
          863.1713851499998,
          866.4450958799997,
          870.0471618299997,
          889.9449218299997,
          887.2636428199996,
          889.4014471899997,
          913.0823410199996,
          927.6495575499996,
          938.1060430099996,
          940.5199783699995,
          955.9959146299996,
          1065.6070973199996,
          1063.1412266799996,
          1104.4697457899997,
          1119.2590196399997,
          1150.0930511799997,
          1210.8100349299998,
          1224.1191742199999,
          1239.29093395,
          1274.48001205,
          1290.97998023,
          1299.2097602699998,
          1312.5995126599998,
          1325.43612593,
          1339.60399603,
          1339.06255728,
          1381.68314327,
          1401.26031551,
          1429.81687867,
          1446.04462226,
          1457.64699528,
          1489.40758284,
          1488.31961979,
          1522.66475434,
          1541.6642809999998,
          1586.1166114899997,
          1644.7575112099998,
          1664.7329115999999,
          1698.4495686799999,
          1775.2281626,
          1830.64289478,
          1831.11578469,
          2119.4964557900003,
          2155.5932727800005,
          2288.0860879800002,
          2324.2479292700004,
          2481.1261523500007,
          2649.845399940001,
          2664.5121677000006,
          2715.5630936500006,
          2746.5749671500007,
          2847.487406360001,
          2907.186935410001,
          2921.4964087000008,
          2988.7244671500007,
          2985.528990980001,
          3020.3938877300006,
          3062.2911932300008,
          3092.265318460001,
          3123.4178503000007,
          3120.8192532500007,
          3180.1621121200005,
          3268.2283057100003,
          3323.6937437,
          3339.91599778,
          3365.36243415,
          3393.45142571,
          3476.24447737,
          3491.90544545,
          3509.1201091400003,
          3550.7536284200005,
          3566.3454135300003,
          3630.0304683400004,
          3648.4013048100005,
          3697.3516002500005,
          3807.9114487700003,
          3869.0128489000003,
          3902.4705947,
          3920.9248309100003,
          4000.31062796,
          4026.44282607,
          4088.96478613,
          4138.55296008,
          4184.61545132,
          4205.38236515,
          4233.14006876,
          4262.64796105,
          4293.06975021,
          4330.89222032,
          4362.60912341,
          4365.43719887,
          4383.35403004,
          4464.89898732,
          4495.95734233,
          4501.0520076,
          4505.66364116,
          4538.89778967,
          4569.13114443,
          4594.7669325,
          4625.901142979999,
          4647.781743109999,
          4657.379078259999,
          4687.659638459999,
          4727.576224099999,
          4770.821362569999,
          4864.494295679999,
          4878.727259389999,
          4906.545694559999,
          4920.327357329999,
          4926.98950094,
          5107.78690753,
          5113.240384369999,
          5161.16264705,
          5162.2934375899995,
          5226.703248559999,
          5253.39829443,
          5317.889127619999,
          5324.025437619999,
          5361.535530789999,
          5435.870800009999,
          5494.780565339998,
          5536.589768249998,
          5608.294577329998,
          5635.051555659998,
          5688.157221319998,
          5695.672233379998,
          5726.691409099998,
          5764.968651899998,
          5833.028540589998,
          5824.514066699998,
          5860.280654319998,
          5886.972251569998,
          5934.689697329998,
          5920.747933869998,
          5979.3911182799975,
          6025.845623549997,
          6016.196834539997,
          6031.689187609997,
          6067.873673889997,
          6109.138876709997,
          6121.679411239997,
          6141.266203649997,
          6199.401976139997,
          6198.856989169997,
          6192.335567259997,
          6211.883675059998,
          6254.628939849998,
          6345.119641559998,
          6357.170294109998,
          6417.123007309999,
          6419.268743939999,
          6432.246533649999,
          6436.177801829999,
          6662.686911319999,
          6674.651763599999,
          6680.089603909999,
          6784.204907329999,
          6757.402873449999,
          6789.782229019999,
          6834.72706994,
          6861.27279313,
          6914.54917132,
          6912.3387582099995,
          6954.56915529,
          6968.6434156099995,
          6976.452880419999,
          7154.552971359999,
          7323.393182329999,
          7384.918373529999,
          7417.742391319999,
          7524.759989429999,
          7540.869409069999,
          7618.059165899999,
          7648.70865628,
          7710.19956073,
          7737.53350882,
          7771.70282457,
          7953.743467480001,
          7986.046281750001,
          7998.841996830001,
          8021.4917572700015,
          8099.317467240002,
          8149.376344650002,
          8153.416775800001,
          8168.1216622500015,
          8160.041577450002,
          8196.385185960002,
          8218.748740910001,
          8230.576441780002,
          8262.577546420001,
          8298.259627360001,
          8375.47508962,
          8389.13920036,
          8429.32049154,
          8437.76066966,
          8503.74559406,
          8570.35620848,
          8634.35762994,
          8690.96448155,
          8739.209310389999,
          8752.82375946,
          8803.9263478,
          8828.82294428,
          8846.20619125,
          8873.36189194,
          8934.67805017,
          8952.63757566,
          8993.31839547,
          8966.85072941,
          9029.61309834,
          9043.43444363,
          9076.32100521,
          9075.076094490001,
          9098.45514924,
          9123.14840571,
          9222.21918742,
          9236.95408797,
          9289.92454856,
          9293.60970546,
          9348.86691986,
          9344.1127717,
          9377.953288319999,
          9406.7726295,
          9553.955140729999,
          9582.24794118,
          9680.070978079999,
          9705.684822739999,
          9745.547734299998,
          9742.685801439999,
          9830.179074319998,
          9863.748361829998,
          9849.802915579998,
          9903.168254579998,
          10060.464564639999,
          10062.81271359,
          10142.47019581,
          10208.20398119,
          10271.063086459999,
          10309.068424379999,
          10317.247384859998,
          10455.145076159999,
          10907.729557249999,
          10924.755394279999,
          11076.590676409998,
          11082.576172649999,
          11083.688924619999,
          11206.65847825,
          11290.20152942,
          11288.65594865,
          11354.61245716,
          11471.46844709,
          11455.811459389999,
          11535.849250619998,
          11523.386996639998,
          11629.621234239998,
          11638.044642589997,
          11649.719169419997,
          11700.237275199997,
          11774.263575939998,
          11771.343155799997,
          11872.870246849998,
          11878.119194999997,
          11865.368364779997,
          11876.099495889997,
          11893.096326029998,
          12014.577228799997,
          12036.885617029997,
          12067.558974259997,
          12131.847536849997,
          12125.179305929996,
          12137.924396479997,
          12164.084857569997,
          12189.643276709996,
          12343.668896809995,
          12430.332613669994,
          12562.257865119995,
          12683.594142089994,
          12708.080506129994,
          12783.030312339994,
          12809.444386279994,
          12853.231890939995,
          12869.553434709995,
          12871.402247779995,
          12874.680429199996,
          12869.901966149997,
          12889.919082339997,
          12887.412270569997,
          12873.381435719997,
          12894.741606689997,
          13019.006278589997,
          13096.488679509997,
          13101.734785839997,
          13216.576520869998,
          13211.971864799998,
          13243.399538399997,
          13299.514906769997,
          13319.193111409997,
          13321.390911739996,
          13310.853262319995,
          13356.386717049996,
          13368.446124159997,
          13388.250934359996,
          13410.871995609996,
          13517.447918299997,
          13529.705644049996,
          13522.838810299996,
          13598.796096829996,
          13620.134209549995,
          13616.996080789995,
          13643.690095049995,
          13700.278086609995,
          13698.839635749995,
          13697.360520149996,
          13699.395013409996,
          13745.614542849997,
          13744.694111489996,
          13867.267882599996,
          13856.616504599995,
          13860.507503569996,
          13914.798441809995,
          13961.126195369994,
          13981.202871329993,
          14042.302180779994,
          14173.791723949995,
          14191.659234129995,
          14216.585839229994,
          14247.341575589995,
          14372.149159799996,
          14428.560398539996,
          14426.014079409995,
          14476.977606259996,
          14587.083920269995,
          14589.067589809996,
          14636.125858759997,
          14669.884126029996,
          14678.102042509996,
          14833.254023319996,
          14885.444631009996,
          14908.673963559995,
          14901.671996179995,
          14907.489905669996,
          14924.360710689996,
          14977.201181419996,
          15059.661522839995,
          15054.741780619996,
          15104.455241279995,
          15099.612111779996,
          15100.587388729995,
          15115.016278119994,
          15161.591862889994,
          15156.213329259994,
          15203.998201359993,
          15222.794477439993,
          15219.211508149992,
          15259.173525519993,
          15276.945519769994,
          15270.941610249993,
          15268.134173449993,
          15316.504942369993,
          15363.287965719994,
          15356.014156889994,
          15373.699434819995,
          15376.899890059995,
          15364.892734709994,
          15435.472711739994,
          15462.100228119994,
          15498.956944869995,
          15492.366396219995,
          15498.390059589996,
          15587.585801889996,
          15602.804338439997,
          15630.182876539997,
          15653.493180309997,
          15638.297513029996,
          15632.875778809996,
          15609.951851759995,
          15682.329693129996,
          15700.582301669996,
          15702.324304889997,
          15772.478160569997,
          15824.080788269997,
          15821.751714769998,
          15819.767386329999,
          15899.416622129998,
          15950.050040239998,
          15933.280228829997,
          15962.689650939998,
          15987.574123359998,
          15986.788113529998,
          15996.664225259998,
          16004.586466559998,
          16031.730399209999,
          16076.708926829999,
          16204.293700159998,
          16195.415646949998,
          16217.826317289997,
          16240.606841419996,
          16381.541108279996,
          16446.464551039997,
          16598.414450189997,
          16752.351142289997,
          16804.741217369996,
          16812.849254289995,
          16884.269451689994,
          16902.334995109995,
          16917.288733269994,
          16953.561671729993,
          16984.081029479992,
          16985.02600628999,
          16977.10852908999,
          16997.12912820999,
          17046.78466250999,
          17061.23725336999,
          17078.59027252999,
          17133.39324119999,
          17166.26487688999,
          17154.984544859988,
          17174.13299880999,
          17288.70687076999,
          17282.13788570999,
          17372.84973293999,
          17366.91950334999,
          17403.058097969988,
          17395.995282469987,
          17381.779185139985,
          17447.792509509985,
          17523.631882649985,
          17524.789290739984,
          17527.038599829983,
          17598.71538512998,
          17637.46333498998,
          17739.214690309982,
          18078.176291519983,
          18204.893441299984,
          18404.895653489984,
          18522.547170479986,
          18557.414195869987,
          18785.34836519999,
          18915.64465670999,
          18939.50089100999,
          19047.38500723999,
          19152.26954283999,
          19176.86196155999,
          19234.92503752999,
          19226.66786913999,
          19227.23342259999,
          19240.848134539992,
          19273.978418729992,
          19265.81769943999,
          19388.41376996999,
          19385.30122465999,
          19390.58767658999,
          19393.914817329987,
          19450.335791259986,
          19491.364581599984,
          19501.418563609983,
          19606.82674446998,
          19603.02497759998,
          19566.14703087998,
          19627.80914068998,
          19671.34522658998,
          19738.15560510998,
          19744.75134274998,
          19815.36097511998,
          19843.29032029998,
          19882.18003370998,
          19898.71809874998,
          19971.617686979982,
          20169.951834249983,
          20215.699079709982,
          20252.423180749982,
          20299.350724409982,
          20351.370622749982,
          20351.272551119982,
          20381.269335379984,
          20454.345781749984,
          20568.824129019984,
          20638.116179769982,
          20610.742868899983,
          20645.01313022998,
          20670.615637029983,
          20691.500493479984,
          20686.131839229984,
          20694.326690469985,
          20696.902740699985,
          20697.245848309984,
          20692.613947189984,
          20702.064418259983,
          20776.55744473998,
          20841.46537462998,
          20872.88255876998,
          20912.63567421998,
          20921.19866301998,
          20942.08845779998,
          20980.63601685998,
          20965.49972983998,
          20962.86890229998,
          21004.47632736998,
          21004.03375139998,
          21132.57433167998,
          21164.289354229983,
          21160.093471469983,
          21162.40893219998,
          21143.784493559982,
          21146.269642779982,
          21133.16193760998,
          21211.663935589982,
          21230.831205859984,
          21225.310117149984,
          21270.274591419984,
          21291.473045879986,
          21272.265782719987,
          21294.562117529986,
          21291.521101529986,
          21286.007128209985,
          21287.542694389984,
          21284.627799509984,
          21413.756944229983,
          21423.222338289983,
          21417.662963259983,
          21617.158504809984,
          21626.407804059985,
          21639.507731639984,
          21676.497883469983,
          21881.237346389982,
          21924.854351029982,
          21951.959805289982,
          21984.74546852998,
          21983.521389629983,
          22034.235833789982,
          22159.83493825998,
          22145.23316297998,
          22242.32512932998,
          22235.07090455998,
          22289.51116445998,
          22248.826776999977,
          22225.550804349976,
          22219.013197839977,
          22295.404368359978,
          22334.629693819978,
          22330.25261321998,
          22373.58744364998,
          22373.80580194998,
          22374.19765035998,
          22399.93035441998,
          22450.67889107998,
          22439.26965734998,
          22443.82110204998,
          22492.220606739982,
          22492.78171496998,
          22475.82594391998,
          22471.66703313998,
          22486.92761158998,
          22473.77863421998,
          22526.97373289998,
          22555.09632032998,
          22551.37499426998,
          22550.13440947998,
          22567.23731949998,
          22555.149486949977,
          22548.048901839975,
          22551.947947419976,
          22554.372981129975,
          22539.057429579974,
          22564.457212609974,
          22549.628478519975,
          22613.856294139976,
          22650.528634509978,
          22678.39748081998,
          22697.574915559977,
          22702.144871019977,
          22694.357054329976,
          22672.982724279977,
          22662.130577779975,
          22667.899508089977,
          22657.013204779978,
          22718.48731243998,
          22736.88483888998,
          22732.68297296998,
          22768.42438379998,
          23045.967975439977,
          23384.965207229976,
          23391.583246269976,
          23433.356335019977,
          23436.605839859978,
          23461.75747597998,
          23520.157120949978,
          23537.77809357998,
          23567.49350933998,
          23558.51710038998,
          23579.38273400998,
          23574.34024902998,
          23593.40199063998,
          23686.81059350998,
          23660.35471917998,
          23704.25975100998,
          23740.810267399982,
          23733.85865760998,
          23725.25179004998,
          23714.95283283998,
          23764.40090501998,
          23771.472576039978,
          23824.483428989977,
          23822.34469219998,
          23815.265967719977,
          23797.581002999977,
          23785.72304026998,
          23808.912851069977,
          23796.740231069976,
          23804.487105649976,
          23839.252514369975,
          23840.070907819976,
          23831.067902479976,
          23820.405521269975,
          23845.136281889976,
          23911.814580299975,
          23931.279859459974,
          23949.872701659973,
          24011.743974849975,
          24015.672921539976,
          24008.866782489975,
          23997.603611449977,
          24013.570760369978,
          24001.698696209976,
          24005.956127409976,
          23982.380167649975,
          23971.485582049976,
          23962.248990439977,
          23948.994667749976,
          23951.506431659975,
          23955.062764159975,
          23926.154655469974,
          23933.248223229974,
          23926.231603559972,
          23918.82214307997,
          23916.71206105997,
          23897.94417915997,
          23909.08225031997,
          23896.89165544997,
          23901.98337855997,
          23893.87302272997,
          23889.39662507997,
          23918.599381469972,
          23916.32572660997
         ],
         "yaxis": "y"
        }
       ],
       "layout": {
        "autosize": true,
        "legend": {
         "tracegroupgap": 0
        },
        "margin": {
         "t": 60
        },
        "template": {
         "data": {
          "bar": [
           {
            "error_x": {
             "color": "#2a3f5f"
            },
            "error_y": {
             "color": "#2a3f5f"
            },
            "marker": {
             "line": {
              "color": "#E5ECF6",
              "width": 0.5
             },
             "pattern": {
              "fillmode": "overlay",
              "size": 10,
              "solidity": 0.2
             }
            },
            "type": "bar"
           }
          ],
          "barpolar": [
           {
            "marker": {
             "line": {
              "color": "#E5ECF6",
              "width": 0.5
             },
             "pattern": {
              "fillmode": "overlay",
              "size": 10,
              "solidity": 0.2
             }
            },
            "type": "barpolar"
           }
          ],
          "carpet": [
           {
            "aaxis": {
             "endlinecolor": "#2a3f5f",
             "gridcolor": "white",
             "linecolor": "white",
             "minorgridcolor": "white",
             "startlinecolor": "#2a3f5f"
            },
            "baxis": {
             "endlinecolor": "#2a3f5f",
             "gridcolor": "white",
             "linecolor": "white",
             "minorgridcolor": "white",
             "startlinecolor": "#2a3f5f"
            },
            "type": "carpet"
           }
          ],
          "choropleth": [
           {
            "colorbar": {
             "outlinewidth": 0,
             "ticks": ""
            },
            "type": "choropleth"
           }
          ],
          "contour": [
           {
            "colorbar": {
             "outlinewidth": 0,
             "ticks": ""
            },
            "colorscale": [
             [
              0,
              "#0d0887"
             ],
             [
              0.1111111111111111,
              "#46039f"
             ],
             [
              0.2222222222222222,
              "#7201a8"
             ],
             [
              0.3333333333333333,
              "#9c179e"
             ],
             [
              0.4444444444444444,
              "#bd3786"
             ],
             [
              0.5555555555555556,
              "#d8576b"
             ],
             [
              0.6666666666666666,
              "#ed7953"
             ],
             [
              0.7777777777777778,
              "#fb9f3a"
             ],
             [
              0.8888888888888888,
              "#fdca26"
             ],
             [
              1,
              "#f0f921"
             ]
            ],
            "type": "contour"
           }
          ],
          "contourcarpet": [
           {
            "colorbar": {
             "outlinewidth": 0,
             "ticks": ""
            },
            "type": "contourcarpet"
           }
          ],
          "heatmap": [
           {
            "colorbar": {
             "outlinewidth": 0,
             "ticks": ""
            },
            "colorscale": [
             [
              0,
              "#0d0887"
             ],
             [
              0.1111111111111111,
              "#46039f"
             ],
             [
              0.2222222222222222,
              "#7201a8"
             ],
             [
              0.3333333333333333,
              "#9c179e"
             ],
             [
              0.4444444444444444,
              "#bd3786"
             ],
             [
              0.5555555555555556,
              "#d8576b"
             ],
             [
              0.6666666666666666,
              "#ed7953"
             ],
             [
              0.7777777777777778,
              "#fb9f3a"
             ],
             [
              0.8888888888888888,
              "#fdca26"
             ],
             [
              1,
              "#f0f921"
             ]
            ],
            "type": "heatmap"
           }
          ],
          "heatmapgl": [
           {
            "colorbar": {
             "outlinewidth": 0,
             "ticks": ""
            },
            "colorscale": [
             [
              0,
              "#0d0887"
             ],
             [
              0.1111111111111111,
              "#46039f"
             ],
             [
              0.2222222222222222,
              "#7201a8"
             ],
             [
              0.3333333333333333,
              "#9c179e"
             ],
             [
              0.4444444444444444,
              "#bd3786"
             ],
             [
              0.5555555555555556,
              "#d8576b"
             ],
             [
              0.6666666666666666,
              "#ed7953"
             ],
             [
              0.7777777777777778,
              "#fb9f3a"
             ],
             [
              0.8888888888888888,
              "#fdca26"
             ],
             [
              1,
              "#f0f921"
             ]
            ],
            "type": "heatmapgl"
           }
          ],
          "histogram": [
           {
            "marker": {
             "pattern": {
              "fillmode": "overlay",
              "size": 10,
              "solidity": 0.2
             }
            },
            "type": "histogram"
           }
          ],
          "histogram2d": [
           {
            "colorbar": {
             "outlinewidth": 0,
             "ticks": ""
            },
            "colorscale": [
             [
              0,
              "#0d0887"
             ],
             [
              0.1111111111111111,
              "#46039f"
             ],
             [
              0.2222222222222222,
              "#7201a8"
             ],
             [
              0.3333333333333333,
              "#9c179e"
             ],
             [
              0.4444444444444444,
              "#bd3786"
             ],
             [
              0.5555555555555556,
              "#d8576b"
             ],
             [
              0.6666666666666666,
              "#ed7953"
             ],
             [
              0.7777777777777778,
              "#fb9f3a"
             ],
             [
              0.8888888888888888,
              "#fdca26"
             ],
             [
              1,
              "#f0f921"
             ]
            ],
            "type": "histogram2d"
           }
          ],
          "histogram2dcontour": [
           {
            "colorbar": {
             "outlinewidth": 0,
             "ticks": ""
            },
            "colorscale": [
             [
              0,
              "#0d0887"
             ],
             [
              0.1111111111111111,
              "#46039f"
             ],
             [
              0.2222222222222222,
              "#7201a8"
             ],
             [
              0.3333333333333333,
              "#9c179e"
             ],
             [
              0.4444444444444444,
              "#bd3786"
             ],
             [
              0.5555555555555556,
              "#d8576b"
             ],
             [
              0.6666666666666666,
              "#ed7953"
             ],
             [
              0.7777777777777778,
              "#fb9f3a"
             ],
             [
              0.8888888888888888,
              "#fdca26"
             ],
             [
              1,
              "#f0f921"
             ]
            ],
            "type": "histogram2dcontour"
           }
          ],
          "mesh3d": [
           {
            "colorbar": {
             "outlinewidth": 0,
             "ticks": ""
            },
            "type": "mesh3d"
           }
          ],
          "parcoords": [
           {
            "line": {
             "colorbar": {
              "outlinewidth": 0,
              "ticks": ""
             }
            },
            "type": "parcoords"
           }
          ],
          "pie": [
           {
            "automargin": true,
            "type": "pie"
           }
          ],
          "scatter": [
           {
            "fillpattern": {
             "fillmode": "overlay",
             "size": 10,
             "solidity": 0.2
            },
            "type": "scatter"
           }
          ],
          "scatter3d": [
           {
            "line": {
             "colorbar": {
              "outlinewidth": 0,
              "ticks": ""
             }
            },
            "marker": {
             "colorbar": {
              "outlinewidth": 0,
              "ticks": ""
             }
            },
            "type": "scatter3d"
           }
          ],
          "scattercarpet": [
           {
            "marker": {
             "colorbar": {
              "outlinewidth": 0,
              "ticks": ""
             }
            },
            "type": "scattercarpet"
           }
          ],
          "scattergeo": [
           {
            "marker": {
             "colorbar": {
              "outlinewidth": 0,
              "ticks": ""
             }
            },
            "type": "scattergeo"
           }
          ],
          "scattergl": [
           {
            "marker": {
             "colorbar": {
              "outlinewidth": 0,
              "ticks": ""
             }
            },
            "type": "scattergl"
           }
          ],
          "scattermapbox": [
           {
            "marker": {
             "colorbar": {
              "outlinewidth": 0,
              "ticks": ""
             }
            },
            "type": "scattermapbox"
           }
          ],
          "scatterpolar": [
           {
            "marker": {
             "colorbar": {
              "outlinewidth": 0,
              "ticks": ""
             }
            },
            "type": "scatterpolar"
           }
          ],
          "scatterpolargl": [
           {
            "marker": {
             "colorbar": {
              "outlinewidth": 0,
              "ticks": ""
             }
            },
            "type": "scatterpolargl"
           }
          ],
          "scatterternary": [
           {
            "marker": {
             "colorbar": {
              "outlinewidth": 0,
              "ticks": ""
             }
            },
            "type": "scatterternary"
           }
          ],
          "surface": [
           {
            "colorbar": {
             "outlinewidth": 0,
             "ticks": ""
            },
            "colorscale": [
             [
              0,
              "#0d0887"
             ],
             [
              0.1111111111111111,
              "#46039f"
             ],
             [
              0.2222222222222222,
              "#7201a8"
             ],
             [
              0.3333333333333333,
              "#9c179e"
             ],
             [
              0.4444444444444444,
              "#bd3786"
             ],
             [
              0.5555555555555556,
              "#d8576b"
             ],
             [
              0.6666666666666666,
              "#ed7953"
             ],
             [
              0.7777777777777778,
              "#fb9f3a"
             ],
             [
              0.8888888888888888,
              "#fdca26"
             ],
             [
              1,
              "#f0f921"
             ]
            ],
            "type": "surface"
           }
          ],
          "table": [
           {
            "cells": {
             "fill": {
              "color": "#EBF0F8"
             },
             "line": {
              "color": "white"
             }
            },
            "header": {
             "fill": {
              "color": "#C8D4E3"
             },
             "line": {
              "color": "white"
             }
            },
            "type": "table"
           }
          ]
         },
         "layout": {
          "annotationdefaults": {
           "arrowcolor": "#2a3f5f",
           "arrowhead": 0,
           "arrowwidth": 1
          },
          "autotypenumbers": "strict",
          "coloraxis": {
           "colorbar": {
            "outlinewidth": 0,
            "ticks": ""
           }
          },
          "colorscale": {
           "diverging": [
            [
             0,
             "#8e0152"
            ],
            [
             0.1,
             "#c51b7d"
            ],
            [
             0.2,
             "#de77ae"
            ],
            [
             0.3,
             "#f1b6da"
            ],
            [
             0.4,
             "#fde0ef"
            ],
            [
             0.5,
             "#f7f7f7"
            ],
            [
             0.6,
             "#e6f5d0"
            ],
            [
             0.7,
             "#b8e186"
            ],
            [
             0.8,
             "#7fbc41"
            ],
            [
             0.9,
             "#4d9221"
            ],
            [
             1,
             "#276419"
            ]
           ],
           "sequential": [
            [
             0,
             "#0d0887"
            ],
            [
             0.1111111111111111,
             "#46039f"
            ],
            [
             0.2222222222222222,
             "#7201a8"
            ],
            [
             0.3333333333333333,
             "#9c179e"
            ],
            [
             0.4444444444444444,
             "#bd3786"
            ],
            [
             0.5555555555555556,
             "#d8576b"
            ],
            [
             0.6666666666666666,
             "#ed7953"
            ],
            [
             0.7777777777777778,
             "#fb9f3a"
            ],
            [
             0.8888888888888888,
             "#fdca26"
            ],
            [
             1,
             "#f0f921"
            ]
           ],
           "sequentialminus": [
            [
             0,
             "#0d0887"
            ],
            [
             0.1111111111111111,
             "#46039f"
            ],
            [
             0.2222222222222222,
             "#7201a8"
            ],
            [
             0.3333333333333333,
             "#9c179e"
            ],
            [
             0.4444444444444444,
             "#bd3786"
            ],
            [
             0.5555555555555556,
             "#d8576b"
            ],
            [
             0.6666666666666666,
             "#ed7953"
            ],
            [
             0.7777777777777778,
             "#fb9f3a"
            ],
            [
             0.8888888888888888,
             "#fdca26"
            ],
            [
             1,
             "#f0f921"
            ]
           ]
          },
          "colorway": [
           "#636efa",
           "#EF553B",
           "#00cc96",
           "#ab63fa",
           "#FFA15A",
           "#19d3f3",
           "#FF6692",
           "#B6E880",
           "#FF97FF",
           "#FECB52"
          ],
          "font": {
           "color": "#2a3f5f"
          },
          "geo": {
           "bgcolor": "white",
           "lakecolor": "white",
           "landcolor": "#E5ECF6",
           "showlakes": true,
           "showland": true,
           "subunitcolor": "white"
          },
          "hoverlabel": {
           "align": "left"
          },
          "hovermode": "closest",
          "mapbox": {
           "style": "light"
          },
          "paper_bgcolor": "white",
          "plot_bgcolor": "#E5ECF6",
          "polar": {
           "angularaxis": {
            "gridcolor": "white",
            "linecolor": "white",
            "ticks": ""
           },
           "bgcolor": "#E5ECF6",
           "radialaxis": {
            "gridcolor": "white",
            "linecolor": "white",
            "ticks": ""
           }
          },
          "scene": {
           "xaxis": {
            "backgroundcolor": "#E5ECF6",
            "gridcolor": "white",
            "gridwidth": 2,
            "linecolor": "white",
            "showbackground": true,
            "ticks": "",
            "zerolinecolor": "white"
           },
           "yaxis": {
            "backgroundcolor": "#E5ECF6",
            "gridcolor": "white",
            "gridwidth": 2,
            "linecolor": "white",
            "showbackground": true,
            "ticks": "",
            "zerolinecolor": "white"
           },
           "zaxis": {
            "backgroundcolor": "#E5ECF6",
            "gridcolor": "white",
            "gridwidth": 2,
            "linecolor": "white",
            "showbackground": true,
            "ticks": "",
            "zerolinecolor": "white"
           }
          },
          "shapedefaults": {
           "line": {
            "color": "#2a3f5f"
           }
          },
          "ternary": {
           "aaxis": {
            "gridcolor": "white",
            "linecolor": "white",
            "ticks": ""
           },
           "baxis": {
            "gridcolor": "white",
            "linecolor": "white",
            "ticks": ""
           },
           "bgcolor": "#E5ECF6",
           "caxis": {
            "gridcolor": "white",
            "linecolor": "white",
            "ticks": ""
           }
          },
          "title": {
           "x": 0.05
          },
          "xaxis": {
           "automargin": true,
           "gridcolor": "white",
           "linecolor": "white",
           "ticks": "",
           "title": {
            "standoff": 15
           },
           "zerolinecolor": "white",
           "zerolinewidth": 2
          },
          "yaxis": {
           "automargin": true,
           "gridcolor": "white",
           "linecolor": "white",
           "ticks": "",
           "title": {
            "standoff": 15
           },
           "zerolinecolor": "white",
           "zerolinewidth": 2
          }
         }
        },
        "xaxis": {
         "anchor": "y",
         "autorange": true,
         "domain": [
          0,
          1
         ],
         "range": [
          "2021-01-02",
          "2023-01-10"
         ],
         "title": {
          "text": "dates"
         },
         "type": "date"
        },
        "yaxis": {
         "anchor": "x",
         "autorange": true,
         "domain": [
          0,
          1
         ],
         "range": [
          -1322.9743409977764,
          25349.28593535775
         ],
         "title": {
          "text": "equity_daily"
         },
         "type": "linear"
        }
       }
      },
      "image/png": "[encoded data removed]",
      "text/html": [
       "<div>                            <div id=\"749a04b8-a054-4e25-9cce-a18469155400\" class=\"plotly-graph-div\" style=\"height:525px; width:100%;\"></div>            <script type=\"text/javascript\">                require([\"plotly\"], function(Plotly) {                    window.PLOTLYENV=window.PLOTLYENV || {};                                    if (document.getElementById(\"749a04b8-a054-4e25-9cce-a18469155400\")) {                    Plotly.newPlot(                        \"749a04b8-a054-4e25-9cce-a18469155400\",                        [{\"hovertemplate\":\"dates=%{x}\\u003cbr\\u003eequity_daily=%{y}\\u003cextra\\u003e\\u003c\\u002fextra\\u003e\",\"legendgroup\":\"\",\"line\":{\"color\":\"#636efa\",\"dash\":\"solid\"},\"marker\":{\"symbol\":\"circle\"},\"mode\":\"lines\",\"name\":\"\",\"orientation\":\"v\",\"showlegend\":false,\"x\":[\"2021-01-02\",\"2021-01-03\",\"2021-01-04\",\"2021-01-05\",\"2021-01-06\",\"2021-01-07\",\"2021-01-08\",\"2021-01-09\",\"2021-01-10\",\"2021-01-11\",\"2021-01-12\",\"2021-01-13\",\"2021-01-14\",\"2021-01-15\",\"2021-01-16\",\"2021-01-17\",\"2021-01-18\",\"2021-01-19\",\"2021-01-20\",\"2021-01-21\",\"2021-01-22\",\"2021-01-23\",\"2021-01-24\",\"2021-01-25\",\"2021-01-26\",\"2021-01-27\",\"2021-01-28\",\"2021-01-29\",\"2021-01-30\",\"2021-01-31\",\"2021-02-01\",\"2021-02-02\",\"2021-02-03\",\"2021-02-04\",\"2021-02-05\",\"2021-02-06\",\"2021-02-07\",\"2021-02-08\",\"2021-02-09\",\"2021-02-10\",\"2021-02-11\",\"2021-02-12\",\"2021-02-13\",\"2021-02-14\",\"2021-02-15\",\"2021-02-16\",\"2021-02-17\",\"2021-02-18\",\"2021-02-19\",\"2021-02-20\",\"2021-02-21\",\"2021-02-22\",\"2021-02-23\",\"2021-02-24\",\"2021-02-25\",\"2021-02-26\",\"2021-02-27\",\"2021-02-28\",\"2021-03-01\",\"2021-03-02\",\"2021-03-03\",\"2021-03-04\",\"2021-03-05\",\"2021-03-06\",\"2021-03-07\",\"2021-03-08\",\"2021-03-09\",\"2021-03-10\",\"2021-03-11\",\"2021-03-12\",\"2021-03-13\",\"2021-03-14\",\"2021-03-15\",\"2021-03-16\",\"2021-03-17\",\"2021-03-18\",\"2021-03-19\",\"2021-03-20\",\"2021-03-21\",\"2021-03-22\",\"2021-03-23\",\"2021-03-24\",\"2021-03-25\",\"2021-03-26\",\"2021-03-27\",\"2021-03-28\",\"2021-03-29\",\"2021-03-30\",\"2021-03-31\",\"2021-04-01\",\"2021-04-02\",\"2021-04-03\",\"2021-04-04\",\"2021-04-05\",\"2021-04-06\",\"2021-04-07\",\"2021-04-08\",\"2021-04-09\",\"2021-04-10\",\"2021-04-11\",\"2021-04-12\",\"2021-04-13\",\"2021-04-14\",\"2021-04-15\",\"2021-04-16\",\"2021-04-17\",\"2021-04-18\",\"2021-04-19\",\"2021-04-20\",\"2021-04-21\",\"2021-04-22\",\"2021-04-23\",\"2021-04-24\",\"2021-04-25\",\"2021-04-26\",\"2021-04-27\",\"2021-04-28\",\"2021-04-29\",\"2021-04-30\",\"2021-05-01\",\"2021-05-02\",\"2021-05-03\",\"2021-05-04\",\"2021-05-05\",\"2021-05-06\",\"2021-05-07\",\"2021-05-08\",\"2021-05-09\",\"2021-05-10\",\"2021-05-11\",\"2021-05-12\",\"2021-05-13\",\"2021-05-14\",\"2021-05-15\",\"2021-05-16\",\"2021-05-17\",\"2021-05-18\",\"2021-05-19\",\"2021-05-20\",\"2021-05-21\",\"2021-05-22\",\"2021-05-23\",\"2021-05-24\",\"2021-05-25\",\"2021-05-26\",\"2021-05-27\",\"2021-05-28\",\"2021-05-29\",\"2021-05-30\",\"2021-05-31\",\"2021-06-01\",\"2021-06-02\",\"2021-06-03\",\"2021-06-04\",\"2021-06-05\",\"2021-06-06\",\"2021-06-07\",\"2021-06-08\",\"2021-06-09\",\"2021-06-10\",\"2021-06-11\",\"2021-06-12\",\"2021-06-13\",\"2021-06-14\",\"2021-06-15\",\"2021-06-16\",\"2021-06-17\",\"2021-06-18\",\"2021-06-19\",\"2021-06-20\",\"2021-06-21\",\"2021-06-22\",\"2021-06-23\",\"2021-06-24\",\"2021-06-25\",\"2021-06-26\",\"2021-06-27\",\"2021-06-28\",\"2021-06-29\",\"2021-06-30\",\"2021-07-01\",\"2021-07-02\",\"2021-07-03\",\"2021-07-04\",\"2021-07-05\",\"2021-07-06\",\"2021-07-07\",\"2021-07-08\",\"2021-07-09\",\"2021-07-10\",\"2021-07-11\",\"2021-07-12\",\"2021-07-13\",\"2021-07-14\",\"2021-07-15\",\"2021-07-16\",\"2021-07-17\",\"2021-07-18\",\"2021-07-19\",\"2021-07-20\",\"2021-07-21\",\"2021-07-22\",\"2021-07-23\",\"2021-07-24\",\"2021-07-25\",\"2021-07-26\",\"2021-07-27\",\"2021-07-28\",\"2021-07-29\",\"2021-07-30\",\"2021-07-31\",\"2021-08-01\",\"2021-08-02\",\"2021-08-03\",\"2021-08-04\",\"2021-08-05\",\"2021-08-06\",\"2021-08-07\",\"2021-08-08\",\"2021-08-09\",\"2021-08-10\",\"2021-08-11\",\"2021-08-12\",\"2021-08-13\",\"2021-08-14\",\"2021-08-15\",\"2021-08-16\",\"2021-08-17\",\"2021-08-18\",\"2021-08-19\",\"2021-08-20\",\"2021-08-21\",\"2021-08-22\",\"2021-08-23\",\"2021-08-24\",\"2021-08-25\",\"2021-08-26\",\"2021-08-27\",\"2021-08-28\",\"2021-08-29\",\"2021-08-30\",\"2021-08-31\",\"2021-09-01\",\"2021-09-02\",\"2021-09-03\",\"2021-09-04\",\"2021-09-05\",\"2021-09-06\",\"2021-09-07\",\"2021-09-08\",\"2021-09-09\",\"2021-09-10\",\"2021-09-11\",\"2021-09-12\",\"2021-09-13\",\"2021-09-14\",\"2021-09-15\",\"2021-09-16\",\"2021-09-17\",\"2021-09-18\",\"2021-09-19\",\"2021-09-20\",\"2021-09-21\",\"2021-09-22\",\"2021-09-23\",\"2021-09-24\",\"2021-09-25\",\"2021-09-26\",\"2021-09-27\",\"2021-09-28\",\"2021-09-29\",\"2021-09-30\",\"2021-10-01\",\"2021-10-02\",\"2021-10-03\",\"2021-10-04\",\"2021-10-05\",\"2021-10-06\",\"2021-10-07\",\"2021-10-08\",\"2021-10-09\",\"2021-10-10\",\"2021-10-11\",\"2021-10-12\",\"2021-10-13\",\"2021-10-14\",\"2021-10-15\",\"2021-10-16\",\"2021-10-17\",\"2021-10-18\",\"2021-10-19\",\"2021-10-20\",\"2021-10-21\",\"2021-10-22\",\"2021-10-23\",\"2021-10-24\",\"2021-10-25\",\"2021-10-26\",\"2021-10-27\",\"2021-10-28\",\"2021-10-29\",\"2021-10-30\",\"2021-10-31\",\"2021-11-01\",\"2021-11-02\",\"2021-11-03\",\"2021-11-04\",\"2021-11-05\",\"2021-11-06\",\"2021-11-07\",\"2021-11-08\",\"2021-11-09\",\"2021-11-10\",\"2021-11-11\",\"2021-11-12\",\"2021-11-13\",\"2021-11-14\",\"2021-11-15\",\"2021-11-16\",\"2021-11-17\",\"2021-11-18\",\"2021-11-19\",\"2021-11-20\",\"2021-11-21\",\"2021-11-22\",\"2021-11-23\",\"2021-11-24\",\"2021-11-25\",\"2021-11-26\",\"2021-11-27\",\"2021-11-28\",\"2021-11-29\",\"2021-11-30\",\"2021-12-01\",\"2021-12-02\",\"2021-12-03\",\"2021-12-04\",\"2021-12-05\",\"2021-12-06\",\"2021-12-07\",\"2021-12-08\",\"2021-12-09\",\"2021-12-10\",\"2021-12-11\",\"2021-12-12\",\"2021-12-13\",\"2021-12-14\",\"2021-12-15\",\"2021-12-16\",\"2021-12-17\",\"2021-12-18\",\"2021-12-19\",\"2021-12-20\",\"2021-12-21\",\"2021-12-22\",\"2021-12-23\",\"2021-12-24\",\"2021-12-25\",\"2021-12-26\",\"2021-12-27\",\"2021-12-28\",\"2021-12-29\",\"2021-12-30\",\"2021-12-31\",\"2022-01-01\",\"2022-01-02\",\"2022-01-03\",\"2022-01-04\",\"2022-01-05\",\"2022-01-06\",\"2022-01-07\",\"2022-01-08\",\"2022-01-09\",\"2022-01-10\",\"2022-01-11\",\"2022-01-12\",\"2022-01-13\",\"2022-01-14\",\"2022-01-15\",\"2022-01-16\",\"2022-01-17\",\"2022-01-18\",\"2022-01-19\",\"2022-01-20\",\"2022-01-21\",\"2022-01-22\",\"2022-01-23\",\"2022-01-24\",\"2022-01-25\",\"2022-01-26\",\"2022-01-27\",\"2022-01-28\",\"2022-01-29\",\"2022-01-30\",\"2022-01-31\",\"2022-02-01\",\"2022-02-02\",\"2022-02-03\",\"2022-02-04\",\"2022-02-05\",\"2022-02-06\",\"2022-02-07\",\"2022-02-08\",\"2022-02-09\",\"2022-02-10\",\"2022-02-11\",\"2022-02-12\",\"2022-02-13\",\"2022-02-14\",\"2022-02-15\",\"2022-02-16\",\"2022-02-17\",\"2022-02-18\",\"2022-02-19\",\"2022-02-20\",\"2022-02-21\",\"2022-02-22\",\"2022-02-23\",\"2022-02-24\",\"2022-02-25\",\"2022-02-26\",\"2022-02-27\",\"2022-02-28\",\"2022-03-01\",\"2022-03-02\",\"2022-03-03\",\"2022-03-04\",\"2022-03-05\",\"2022-03-06\",\"2022-03-07\",\"2022-03-08\",\"2022-03-09\",\"2022-03-10\",\"2022-03-11\",\"2022-03-12\",\"2022-03-13\",\"2022-03-14\",\"2022-03-15\",\"2022-03-16\",\"2022-03-17\",\"2022-03-18\",\"2022-03-19\",\"2022-03-20\",\"2022-03-21\",\"2022-03-22\",\"2022-03-23\",\"2022-03-24\",\"2022-03-25\",\"2022-03-26\",\"2022-03-27\",\"2022-03-28\",\"2022-03-29\",\"2022-03-30\",\"2022-03-31\",\"2022-04-01\",\"2022-04-02\",\"2022-04-03\",\"2022-04-04\",\"2022-04-05\",\"2022-04-06\",\"2022-04-07\",\"2022-04-08\",\"2022-04-09\",\"2022-04-10\",\"2022-04-11\",\"2022-04-12\",\"2022-04-13\",\"2022-04-14\",\"2022-04-15\",\"2022-04-16\",\"2022-04-17\",\"2022-04-18\",\"2022-04-19\",\"2022-04-20\",\"2022-04-21\",\"2022-04-22\",\"2022-04-23\",\"2022-04-24\",\"2022-04-25\",\"2022-04-26\",\"2022-04-27\",\"2022-04-28\",\"2022-04-29\",\"2022-04-30\",\"2022-05-01\",\"2022-05-02\",\"2022-05-03\",\"2022-05-04\",\"2022-05-05\",\"2022-05-06\",\"2022-05-07\",\"2022-05-08\",\"2022-05-09\",\"2022-05-10\",\"2022-05-11\",\"2022-05-12\",\"2022-05-13\",\"2022-05-14\",\"2022-05-15\",\"2022-05-16\",\"2022-05-17\",\"2022-05-18\",\"2022-05-19\",\"2022-05-20\",\"2022-05-21\",\"2022-05-22\",\"2022-05-23\",\"2022-05-24\",\"2022-05-25\",\"2022-05-26\",\"2022-05-27\",\"2022-05-28\",\"2022-05-29\",\"2022-05-30\",\"2022-05-31\",\"2022-06-01\",\"2022-06-02\",\"2022-06-03\",\"2022-06-04\",\"2022-06-05\",\"2022-06-06\",\"2022-06-07\",\"2022-06-08\",\"2022-06-09\",\"2022-06-10\",\"2022-06-11\",\"2022-06-12\",\"2022-06-13\",\"2022-06-14\",\"2022-06-15\",\"2022-06-16\",\"2022-06-17\",\"2022-06-18\",\"2022-06-19\",\"2022-06-20\",\"2022-06-21\",\"2022-06-22\",\"2022-06-23\",\"2022-06-24\",\"2022-06-25\",\"2022-06-26\",\"2022-06-27\",\"2022-06-28\",\"2022-06-29\",\"2022-06-30\",\"2022-07-01\",\"2022-07-02\",\"2022-07-03\",\"2022-07-04\",\"2022-07-05\",\"2022-07-06\",\"2022-07-07\",\"2022-07-08\",\"2022-07-09\",\"2022-07-10\",\"2022-07-11\",\"2022-07-12\",\"2022-07-13\",\"2022-07-14\",\"2022-07-15\",\"2022-07-16\",\"2022-07-17\",\"2022-07-18\",\"2022-07-19\",\"2022-07-20\",\"2022-07-21\",\"2022-07-22\",\"2022-07-23\",\"2022-07-24\",\"2022-07-25\",\"2022-07-26\",\"2022-07-27\",\"2022-07-28\",\"2022-07-29\",\"2022-07-30\",\"2022-07-31\",\"2022-08-01\",\"2022-08-02\",\"2022-08-03\",\"2022-08-04\",\"2022-08-05\",\"2022-08-06\",\"2022-08-07\",\"2022-08-08\",\"2022-08-09\",\"2022-08-10\",\"2022-08-11\",\"2022-08-12\",\"2022-08-13\",\"2022-08-14\",\"2022-08-15\",\"2022-08-16\",\"2022-08-17\",\"2022-08-18\",\"2022-08-19\",\"2022-08-20\",\"2022-08-21\",\"2022-08-22\",\"2022-08-23\",\"2022-08-24\",\"2022-08-25\",\"2022-08-26\",\"2022-08-27\",\"2022-08-28\",\"2022-08-29\",\"2022-08-30\",\"2022-08-31\",\"2022-09-01\",\"2022-09-02\",\"2022-09-03\",\"2022-09-04\",\"2022-09-05\",\"2022-09-06\",\"2022-09-07\",\"2022-09-08\",\"2022-09-09\",\"2022-09-10\",\"2022-09-11\",\"2022-09-12\",\"2022-09-13\",\"2022-09-14\",\"2022-09-15\",\"2022-09-16\",\"2022-09-17\",\"2022-09-18\",\"2022-09-19\",\"2022-09-20\",\"2022-09-21\",\"2022-09-22\",\"2022-09-23\",\"2022-09-24\",\"2022-09-25\",\"2022-09-26\",\"2022-09-27\",\"2022-09-28\",\"2022-09-29\",\"2022-09-30\",\"2022-10-01\",\"2022-10-02\",\"2022-10-03\",\"2022-10-04\",\"2022-10-05\",\"2022-10-06\",\"2022-10-07\",\"2022-10-08\",\"2022-10-09\",\"2022-10-10\",\"2022-10-11\",\"2022-10-12\",\"2022-10-13\",\"2022-10-14\",\"2022-10-15\",\"2022-10-16\",\"2022-10-17\",\"2022-10-18\",\"2022-10-19\",\"2022-10-20\",\"2022-10-21\",\"2022-10-22\",\"2022-10-23\",\"2022-10-24\",\"2022-10-25\",\"2022-10-26\",\"2022-10-27\",\"2022-10-28\",\"2022-10-29\",\"2022-10-30\",\"2022-10-31\",\"2022-11-01\",\"2022-11-02\",\"2022-11-03\",\"2022-11-04\",\"2022-11-05\",\"2022-11-06\",\"2022-11-07\",\"2022-11-08\",\"2022-11-09\",\"2022-11-10\",\"2022-11-11\",\"2022-11-12\",\"2022-11-13\",\"2022-11-14\",\"2022-11-15\",\"2022-11-16\",\"2022-11-17\",\"2022-11-18\",\"2022-11-19\",\"2022-11-20\",\"2022-11-21\",\"2022-11-22\",\"2022-11-23\",\"2022-11-24\",\"2022-11-25\",\"2022-11-26\",\"2022-11-27\",\"2022-11-28\",\"2022-11-29\",\"2022-11-30\",\"2022-12-01\",\"2022-12-02\",\"2022-12-03\",\"2022-12-04\",\"2022-12-05\",\"2022-12-06\",\"2022-12-07\",\"2022-12-08\",\"2022-12-09\",\"2022-12-10\",\"2022-12-11\",\"2022-12-12\",\"2022-12-13\",\"2022-12-14\",\"2022-12-15\",\"2022-12-16\",\"2022-12-17\",\"2022-12-18\",\"2022-12-19\",\"2022-12-20\",\"2022-12-21\",\"2022-12-22\",\"2022-12-23\",\"2022-12-24\",\"2022-12-25\",\"2022-12-26\",\"2022-12-27\",\"2022-12-28\",\"2022-12-29\",\"2022-12-30\",\"2022-12-31\",\"2023-01-01\",\"2023-01-02\",\"2023-01-03\",\"2023-01-04\",\"2023-01-05\",\"2023-01-06\",\"2023-01-07\",\"2023-01-08\",\"2023-01-09\",\"2023-01-10\"],\"xaxis\":\"x\",\"y\":[10.63867282,19.500222020000002,27.090020310000003,41.72103321,48.83904349,61.05073318,71.38326789,73.20137884,82.68824383,134.53248804,138.53824699,161.12683049,170.74758805,186.75900793,189.4166214,199.83208837,204.60003238000002,208.3011448,221.77112489,239.93906963,249.29930165000002,248.98607766,250.04534912,258.97023842,268.25322682999996,279.41966278999996,293.07290966999994,317.08290708999994,319.2161159599999,325.45329079999993,327.21938787999994,336.98884391999997,341.0747621,342.28354605,345.45216982,358.81141479999997,364.15046032,398.50673214,395.31588148,400.27634428,407.22579951,406.42331726,407.88274723999996,416.38691280999996,420.50813786,421.80486177,431.44961845,431.04347412,446.05746819999996,449.52999523999995,453.71311621999996,469.92251939999994,497.02747358999994,497.26769719999993,505.17872399999993,523.8812054299999,522.4188944499999,532.1126961499999,544.8335251099999,545.5994137899999,557.3489563699999,565.0051101799999,572.9250074799999,576.9678371299999,582.1589137899999,587.4948707699999,593.1507939799999,600.3356816899999,607.8016083999999,603.6876254199999,617.2110221999999,616.4092626699999,633.2311611499998,639.1952820799999,649.7684098999998,656.0076759699998,659.8393662599998,666.9802062999997,681.8769847799997,702.7637898499997,704.5714747199997,731.1173704099997,743.1170802399997,757.5892563199998,773.0571676399998,771.3572643199998,790.6710254599998,800.0193609599997,805.2841170799998,805.4333736999997,822.8056509199997,825.2525941399997,830.8661733899997,843.4371605799997,839.2021302699998,863.1713851499998,866.4450958799997,870.0471618299997,889.9449218299997,887.2636428199996,889.4014471899997,913.0823410199996,927.6495575499996,938.1060430099996,940.5199783699995,955.9959146299996,1065.6070973199996,1063.1412266799996,1104.4697457899997,1119.2590196399997,1150.0930511799997,1210.8100349299998,1224.1191742199999,1239.29093395,1274.48001205,1290.97998023,1299.2097602699998,1312.5995126599998,1325.43612593,1339.60399603,1339.06255728,1381.68314327,1401.26031551,1429.81687867,1446.04462226,1457.64699528,1489.40758284,1488.31961979,1522.66475434,1541.6642809999998,1586.1166114899997,1644.7575112099998,1664.7329115999999,1698.4495686799999,1775.2281626,1830.64289478,1831.11578469,2119.4964557900003,2155.5932727800005,2288.0860879800002,2324.2479292700004,2481.1261523500007,2649.845399940001,2664.5121677000006,2715.5630936500006,2746.5749671500007,2847.487406360001,2907.186935410001,2921.4964087000008,2988.7244671500007,2985.528990980001,3020.3938877300006,3062.2911932300008,3092.265318460001,3123.4178503000007,3120.8192532500007,3180.1621121200005,3268.2283057100003,3323.6937437,3339.91599778,3365.36243415,3393.45142571,3476.24447737,3491.90544545,3509.1201091400003,3550.7536284200005,3566.3454135300003,3630.0304683400004,3648.4013048100005,3697.3516002500005,3807.9114487700003,3869.0128489000003,3902.4705947,3920.9248309100003,4000.31062796,4026.44282607,4088.96478613,4138.55296008,4184.61545132,4205.38236515,4233.14006876,4262.64796105,4293.06975021,4330.89222032,4362.60912341,4365.43719887,4383.35403004,4464.89898732,4495.95734233,4501.0520076,4505.66364116,4538.89778967,4569.13114443,4594.7669325,4625.901142979999,4647.781743109999,4657.379078259999,4687.659638459999,4727.576224099999,4770.821362569999,4864.494295679999,4878.727259389999,4906.545694559999,4920.327357329999,4926.98950094,5107.78690753,5113.240384369999,5161.16264705,5162.2934375899995,5226.703248559999,5253.39829443,5317.889127619999,5324.025437619999,5361.535530789999,5435.870800009999,5494.780565339998,5536.589768249998,5608.294577329998,5635.051555659998,5688.157221319998,5695.672233379998,5726.691409099998,5764.968651899998,5833.028540589998,5824.514066699998,5860.280654319998,5886.972251569998,5934.689697329998,5920.747933869998,5979.3911182799975,6025.845623549997,6016.196834539997,6031.689187609997,6067.873673889997,6109.138876709997,6121.679411239997,6141.266203649997,6199.401976139997,6198.856989169997,6192.335567259997,6211.883675059998,6254.628939849998,6345.119641559998,6357.170294109998,6417.123007309999,6419.268743939999,6432.246533649999,6436.177801829999,6662.686911319999,6674.651763599999,6680.089603909999,6784.204907329999,6757.402873449999,6789.782229019999,6834.72706994,6861.27279313,6914.54917132,6912.3387582099995,6954.56915529,6968.6434156099995,6976.452880419999,7154.552971359999,7323.393182329999,7384.918373529999,7417.742391319999,7524.759989429999,7540.869409069999,7618.059165899999,7648.70865628,7710.19956073,7737.53350882,7771.70282457,7953.743467480001,7986.046281750001,7998.841996830001,8021.4917572700015,8099.317467240002,8149.376344650002,8153.416775800001,8168.1216622500015,8160.041577450002,8196.385185960002,8218.748740910001,8230.576441780002,8262.577546420001,8298.259627360001,8375.47508962,8389.13920036,8429.32049154,8437.76066966,8503.74559406,8570.35620848,8634.35762994,8690.96448155,8739.209310389999,8752.82375946,8803.9263478,8828.82294428,8846.20619125,8873.36189194,8934.67805017,8952.63757566,8993.31839547,8966.85072941,9029.61309834,9043.43444363,9076.32100521,9075.076094490001,9098.45514924,9123.14840571,9222.21918742,9236.95408797,9289.92454856,9293.60970546,9348.86691986,9344.1127717,9377.953288319999,9406.7726295,9553.955140729999,9582.24794118,9680.070978079999,9705.684822739999,9745.547734299998,9742.685801439999,9830.179074319998,9863.748361829998,9849.802915579998,9903.168254579998,10060.464564639999,10062.81271359,10142.47019581,10208.20398119,10271.063086459999,10309.068424379999,10317.247384859998,10455.145076159999,10907.729557249999,10924.755394279999,11076.590676409998,11082.576172649999,11083.688924619999,11206.65847825,11290.20152942,11288.65594865,11354.61245716,11471.46844709,11455.811459389999,11535.849250619998,11523.386996639998,11629.621234239998,11638.044642589997,11649.719169419997,11700.237275199997,11774.263575939998,11771.343155799997,11872.870246849998,11878.119194999997,11865.368364779997,11876.099495889997,11893.096326029998,12014.577228799997,12036.885617029997,12067.558974259997,12131.847536849997,12125.179305929996,12137.924396479997,12164.084857569997,12189.643276709996,12343.668896809995,12430.332613669994,12562.257865119995,12683.594142089994,12708.080506129994,12783.030312339994,12809.444386279994,12853.231890939995,12869.553434709995,12871.402247779995,12874.680429199996,12869.901966149997,12889.919082339997,12887.412270569997,12873.381435719997,12894.741606689997,13019.006278589997,13096.488679509997,13101.734785839997,13216.576520869998,13211.971864799998,13243.399538399997,13299.514906769997,13319.193111409997,13321.390911739996,13310.853262319995,13356.386717049996,13368.446124159997,13388.250934359996,13410.871995609996,13517.447918299997,13529.705644049996,13522.838810299996,13598.796096829996,13620.134209549995,13616.996080789995,13643.690095049995,13700.278086609995,13698.839635749995,13697.360520149996,13699.395013409996,13745.614542849997,13744.694111489996,13867.267882599996,13856.616504599995,13860.507503569996,13914.798441809995,13961.126195369994,13981.202871329993,14042.302180779994,14173.791723949995,14191.659234129995,14216.585839229994,14247.341575589995,14372.149159799996,14428.560398539996,14426.014079409995,14476.977606259996,14587.083920269995,14589.067589809996,14636.125858759997,14669.884126029996,14678.102042509996,14833.254023319996,14885.444631009996,14908.673963559995,14901.671996179995,14907.489905669996,14924.360710689996,14977.201181419996,15059.661522839995,15054.741780619996,15104.455241279995,15099.612111779996,15100.587388729995,15115.016278119994,15161.591862889994,15156.213329259994,15203.998201359993,15222.794477439993,15219.211508149992,15259.173525519993,15276.945519769994,15270.941610249993,15268.134173449993,15316.504942369993,15363.287965719994,15356.014156889994,15373.699434819995,15376.899890059995,15364.892734709994,15435.472711739994,15462.100228119994,15498.956944869995,15492.366396219995,15498.390059589996,15587.585801889996,15602.804338439997,15630.182876539997,15653.493180309997,15638.297513029996,15632.875778809996,15609.951851759995,15682.329693129996,15700.582301669996,15702.324304889997,15772.478160569997,15824.080788269997,15821.751714769998,15819.767386329999,15899.416622129998,15950.050040239998,15933.280228829997,15962.689650939998,15987.574123359998,15986.788113529998,15996.664225259998,16004.586466559998,16031.730399209999,16076.708926829999,16204.293700159998,16195.415646949998,16217.826317289997,16240.606841419996,16381.541108279996,16446.464551039997,16598.414450189997,16752.351142289997,16804.741217369996,16812.849254289995,16884.269451689994,16902.334995109995,16917.288733269994,16953.561671729993,16984.081029479992,16985.02600628999,16977.10852908999,16997.12912820999,17046.78466250999,17061.23725336999,17078.59027252999,17133.39324119999,17166.26487688999,17154.984544859988,17174.13299880999,17288.70687076999,17282.13788570999,17372.84973293999,17366.91950334999,17403.058097969988,17395.995282469987,17381.779185139985,17447.792509509985,17523.631882649985,17524.789290739984,17527.038599829983,17598.71538512998,17637.46333498998,17739.214690309982,18078.176291519983,18204.893441299984,18404.895653489984,18522.547170479986,18557.414195869987,18785.34836519999,18915.64465670999,18939.50089100999,19047.38500723999,19152.26954283999,19176.86196155999,19234.92503752999,19226.66786913999,19227.23342259999,19240.848134539992,19273.978418729992,19265.81769943999,19388.41376996999,19385.30122465999,19390.58767658999,19393.914817329987,19450.335791259986,19491.364581599984,19501.418563609983,19606.82674446998,19603.02497759998,19566.14703087998,19627.80914068998,19671.34522658998,19738.15560510998,19744.75134274998,19815.36097511998,19843.29032029998,19882.18003370998,19898.71809874998,19971.617686979982,20169.951834249983,20215.699079709982,20252.423180749982,20299.350724409982,20351.370622749982,20351.272551119982,20381.269335379984,20454.345781749984,20568.824129019984,20638.116179769982,20610.742868899983,20645.01313022998,20670.615637029983,20691.500493479984,20686.131839229984,20694.326690469985,20696.902740699985,20697.245848309984,20692.613947189984,20702.064418259983,20776.55744473998,20841.46537462998,20872.88255876998,20912.63567421998,20921.19866301998,20942.08845779998,20980.63601685998,20965.49972983998,20962.86890229998,21004.47632736998,21004.03375139998,21132.57433167998,21164.289354229983,21160.093471469983,21162.40893219998,21143.784493559982,21146.269642779982,21133.16193760998,21211.663935589982,21230.831205859984,21225.310117149984,21270.274591419984,21291.473045879986,21272.265782719987,21294.562117529986,21291.521101529986,21286.007128209985,21287.542694389984,21284.627799509984,21413.756944229983,21423.222338289983,21417.662963259983,21617.158504809984,21626.407804059985,21639.507731639984,21676.497883469983,21881.237346389982,21924.854351029982,21951.959805289982,21984.74546852998,21983.521389629983,22034.235833789982,22159.83493825998,22145.23316297998,22242.32512932998,22235.07090455998,22289.51116445998,22248.826776999977,22225.550804349976,22219.013197839977,22295.404368359978,22334.629693819978,22330.25261321998,22373.58744364998,22373.80580194998,22374.19765035998,22399.93035441998,22450.67889107998,22439.26965734998,22443.82110204998,22492.220606739982,22492.78171496998,22475.82594391998,22471.66703313998,22486.92761158998,22473.77863421998,22526.97373289998,22555.09632032998,22551.37499426998,22550.13440947998,22567.23731949998,22555.149486949977,22548.048901839975,22551.947947419976,22554.372981129975,22539.057429579974,22564.457212609974,22549.628478519975,22613.856294139976,22650.528634509978,22678.39748081998,22697.574915559977,22702.144871019977,22694.357054329976,22672.982724279977,22662.130577779975,22667.899508089977,22657.013204779978,22718.48731243998,22736.88483888998,22732.68297296998,22768.42438379998,23045.967975439977,23384.965207229976,23391.583246269976,23433.356335019977,23436.605839859978,23461.75747597998,23520.157120949978,23537.77809357998,23567.49350933998,23558.51710038998,23579.38273400998,23574.34024902998,23593.40199063998,23686.81059350998,23660.35471917998,23704.25975100998,23740.810267399982,23733.85865760998,23725.25179004998,23714.95283283998,23764.40090501998,23771.472576039978,23824.483428989977,23822.34469219998,23815.265967719977,23797.581002999977,23785.72304026998,23808.912851069977,23796.740231069976,23804.487105649976,23839.252514369975,23840.070907819976,23831.067902479976,23820.405521269975,23845.136281889976,23911.814580299975,23931.279859459974,23949.872701659973,24011.743974849975,24015.672921539976,24008.866782489975,23997.603611449977,24013.570760369978,24001.698696209976,24005.956127409976,23982.380167649975,23971.485582049976,23962.248990439977,23948.994667749976,23951.506431659975,23955.062764159975,23926.154655469974,23933.248223229974,23926.231603559972,23918.82214307997,23916.71206105997,23897.94417915997,23909.08225031997,23896.89165544997,23901.98337855997,23893.87302272997,23889.39662507997,23918.599381469972,23916.32572660997],\"yaxis\":\"y\",\"type\":\"scatter\"}],                        {\"template\":{\"data\":{\"histogram2dcontour\":[{\"type\":\"histogram2dcontour\",\"colorbar\":{\"outlinewidth\":0,\"ticks\":\"\"},\"colorscale\":[[0.0,\"#0d0887\"],[0.1111111111111111,\"#46039f\"],[0.2222222222222222,\"#7201a8\"],[0.3333333333333333,\"#9c179e\"],[0.4444444444444444,\"#bd3786\"],[0.5555555555555556,\"#d8576b\"],[0.6666666666666666,\"#ed7953\"],[0.7777777777777778,\"#fb9f3a\"],[0.8888888888888888,\"#fdca26\"],[1.0,\"#f0f921\"]]}],\"choropleth\":[{\"type\":\"choropleth\",\"colorbar\":{\"outlinewidth\":0,\"ticks\":\"\"}}],\"histogram2d\":[{\"type\":\"histogram2d\",\"colorbar\":{\"outlinewidth\":0,\"ticks\":\"\"},\"colorscale\":[[0.0,\"#0d0887\"],[0.1111111111111111,\"#46039f\"],[0.2222222222222222,\"#7201a8\"],[0.3333333333333333,\"#9c179e\"],[0.4444444444444444,\"#bd3786\"],[0.5555555555555556,\"#d8576b\"],[0.6666666666666666,\"#ed7953\"],[0.7777777777777778,\"#fb9f3a\"],[0.8888888888888888,\"#fdca26\"],[1.0,\"#f0f921\"]]}],\"heatmap\":[{\"type\":\"heatmap\",\"colorbar\":{\"outlinewidth\":0,\"ticks\":\"\"},\"colorscale\":[[0.0,\"#0d0887\"],[0.1111111111111111,\"#46039f\"],[0.2222222222222222,\"#7201a8\"],[0.3333333333333333,\"#9c179e\"],[0.4444444444444444,\"#bd3786\"],[0.5555555555555556,\"#d8576b\"],[0.6666666666666666,\"#ed7953\"],[0.7777777777777778,\"#fb9f3a\"],[0.8888888888888888,\"#fdca26\"],[1.0,\"#f0f921\"]]}],\"heatmapgl\":[{\"type\":\"heatmapgl\",\"colorbar\":{\"outlinewidth\":0,\"ticks\":\"\"},\"colorscale\":[[0.0,\"#0d0887\"],[0.1111111111111111,\"#46039f\"],[0.2222222222222222,\"#7201a8\"],[0.3333333333333333,\"#9c179e\"],[0.4444444444444444,\"#bd3786\"],[0.5555555555555556,\"#d8576b\"],[0.6666666666666666,\"#ed7953\"],[0.7777777777777778,\"#fb9f3a\"],[0.8888888888888888,\"#fdca26\"],[1.0,\"#f0f921\"]]}],\"contourcarpet\":[{\"type\":\"contourcarpet\",\"colorbar\":{\"outlinewidth\":0,\"ticks\":\"\"}}],\"contour\":[{\"type\":\"contour\",\"colorbar\":{\"outlinewidth\":0,\"ticks\":\"\"},\"colorscale\":[[0.0,\"#0d0887\"],[0.1111111111111111,\"#46039f\"],[0.2222222222222222,\"#7201a8\"],[0.3333333333333333,\"#9c179e\"],[0.4444444444444444,\"#bd3786\"],[0.5555555555555556,\"#d8576b\"],[0.6666666666666666,\"#ed7953\"],[0.7777777777777778,\"#fb9f3a\"],[0.8888888888888888,\"#fdca26\"],[1.0,\"#f0f921\"]]}],\"surface\":[{\"type\":\"surface\",\"colorbar\":{\"outlinewidth\":0,\"ticks\":\"\"},\"colorscale\":[[0.0,\"#0d0887\"],[0.1111111111111111,\"#46039f\"],[0.2222222222222222,\"#7201a8\"],[0.3333333333333333,\"#9c179e\"],[0.4444444444444444,\"#bd3786\"],[0.5555555555555556,\"#d8576b\"],[0.6666666666666666,\"#ed7953\"],[0.7777777777777778,\"#fb9f3a\"],[0.8888888888888888,\"#fdca26\"],[1.0,\"#f0f921\"]]}],\"mesh3d\":[{\"type\":\"mesh3d\",\"colorbar\":{\"outlinewidth\":0,\"ticks\":\"\"}}],\"scatter\":[{\"fillpattern\":{\"fillmode\":\"overlay\",\"size\":10,\"solidity\":0.2},\"type\":\"scatter\"}],\"parcoords\":[{\"type\":\"parcoords\",\"line\":{\"colorbar\":{\"outlinewidth\":0,\"ticks\":\"\"}}}],\"scatterpolargl\":[{\"type\":\"scatterpolargl\",\"marker\":{\"colorbar\":{\"outlinewidth\":0,\"ticks\":\"\"}}}],\"bar\":[{\"error_x\":{\"color\":\"#2a3f5f\"},\"error_y\":{\"color\":\"#2a3f5f\"},\"marker\":{\"line\":{\"color\":\"#E5ECF6\",\"width\":0.5},\"pattern\":{\"fillmode\":\"overlay\",\"size\":10,\"solidity\":0.2}},\"type\":\"bar\"}],\"scattergeo\":[{\"type\":\"scattergeo\",\"marker\":{\"colorbar\":{\"outlinewidth\":0,\"ticks\":\"\"}}}],\"scatterpolar\":[{\"type\":\"scatterpolar\",\"marker\":{\"colorbar\":{\"outlinewidth\":0,\"ticks\":\"\"}}}],\"histogram\":[{\"marker\":{\"pattern\":{\"fillmode\":\"overlay\",\"size\":10,\"solidity\":0.2}},\"type\":\"histogram\"}],\"scattergl\":[{\"type\":\"scattergl\",\"marker\":{\"colorbar\":{\"outlinewidth\":0,\"ticks\":\"\"}}}],\"scatter3d\":[{\"type\":\"scatter3d\",\"line\":{\"colorbar\":{\"outlinewidth\":0,\"ticks\":\"\"}},\"marker\":{\"colorbar\":{\"outlinewidth\":0,\"ticks\":\"\"}}}],\"scattermapbox\":[{\"type\":\"scattermapbox\",\"marker\":{\"colorbar\":{\"outlinewidth\":0,\"ticks\":\"\"}}}],\"scatterternary\":[{\"type\":\"scatterternary\",\"marker\":{\"colorbar\":{\"outlinewidth\":0,\"ticks\":\"\"}}}],\"scattercarpet\":[{\"type\":\"scattercarpet\",\"marker\":{\"colorbar\":{\"outlinewidth\":0,\"ticks\":\"\"}}}],\"carpet\":[{\"aaxis\":{\"endlinecolor\":\"#2a3f5f\",\"gridcolor\":\"white\",\"linecolor\":\"white\",\"minorgridcolor\":\"white\",\"startlinecolor\":\"#2a3f5f\"},\"baxis\":{\"endlinecolor\":\"#2a3f5f\",\"gridcolor\":\"white\",\"linecolor\":\"white\",\"minorgridcolor\":\"white\",\"startlinecolor\":\"#2a3f5f\"},\"type\":\"carpet\"}],\"table\":[{\"cells\":{\"fill\":{\"color\":\"#EBF0F8\"},\"line\":{\"color\":\"white\"}},\"header\":{\"fill\":{\"color\":\"#C8D4E3\"},\"line\":{\"color\":\"white\"}},\"type\":\"table\"}],\"barpolar\":[{\"marker\":{\"line\":{\"color\":\"#E5ECF6\",\"width\":0.5},\"pattern\":{\"fillmode\":\"overlay\",\"size\":10,\"solidity\":0.2}},\"type\":\"barpolar\"}],\"pie\":[{\"automargin\":true,\"type\":\"pie\"}]},\"layout\":{\"autotypenumbers\":\"strict\",\"colorway\":[\"#636efa\",\"#EF553B\",\"#00cc96\",\"#ab63fa\",\"#FFA15A\",\"#19d3f3\",\"#FF6692\",\"#B6E880\",\"#FF97FF\",\"#FECB52\"],\"font\":{\"color\":\"#2a3f5f\"},\"hovermode\":\"closest\",\"hoverlabel\":{\"align\":\"left\"},\"paper_bgcolor\":\"white\",\"plot_bgcolor\":\"#E5ECF6\",\"polar\":{\"bgcolor\":\"#E5ECF6\",\"angularaxis\":{\"gridcolor\":\"white\",\"linecolor\":\"white\",\"ticks\":\"\"},\"radialaxis\":{\"gridcolor\":\"white\",\"linecolor\":\"white\",\"ticks\":\"\"}},\"ternary\":{\"bgcolor\":\"#E5ECF6\",\"aaxis\":{\"gridcolor\":\"white\",\"linecolor\":\"white\",\"ticks\":\"\"},\"baxis\":{\"gridcolor\":\"white\",\"linecolor\":\"white\",\"ticks\":\"\"},\"caxis\":{\"gridcolor\":\"white\",\"linecolor\":\"white\",\"ticks\":\"\"}},\"coloraxis\":{\"colorbar\":{\"outlinewidth\":0,\"ticks\":\"\"}},\"colorscale\":{\"sequential\":[[0.0,\"#0d0887\"],[0.1111111111111111,\"#46039f\"],[0.2222222222222222,\"#7201a8\"],[0.3333333333333333,\"#9c179e\"],[0.4444444444444444,\"#bd3786\"],[0.5555555555555556,\"#d8576b\"],[0.6666666666666666,\"#ed7953\"],[0.7777777777777778,\"#fb9f3a\"],[0.8888888888888888,\"#fdca26\"],[1.0,\"#f0f921\"]],\"sequentialminus\":[[0.0,\"#0d0887\"],[0.1111111111111111,\"#46039f\"],[0.2222222222222222,\"#7201a8\"],[0.3333333333333333,\"#9c179e\"],[0.4444444444444444,\"#bd3786\"],[0.5555555555555556,\"#d8576b\"],[0.6666666666666666,\"#ed7953\"],[0.7777777777777778,\"#fb9f3a\"],[0.8888888888888888,\"#fdca26\"],[1.0,\"#f0f921\"]],\"diverging\":[[0,\"#8e0152\"],[0.1,\"#c51b7d\"],[0.2,\"#de77ae\"],[0.3,\"#f1b6da\"],[0.4,\"#fde0ef\"],[0.5,\"#f7f7f7\"],[0.6,\"#e6f5d0\"],[0.7,\"#b8e186\"],[0.8,\"#7fbc41\"],[0.9,\"#4d9221\"],[1,\"#276419\"]]},\"xaxis\":{\"gridcolor\":\"white\",\"linecolor\":\"white\",\"ticks\":\"\",\"title\":{\"standoff\":15},\"zerolinecolor\":\"white\",\"automargin\":true,\"zerolinewidth\":2},\"yaxis\":{\"gridcolor\":\"white\",\"linecolor\":\"white\",\"ticks\":\"\",\"title\":{\"standoff\":15},\"zerolinecolor\":\"white\",\"automargin\":true,\"zerolinewidth\":2},\"scene\":{\"xaxis\":{\"backgroundcolor\":\"#E5ECF6\",\"gridcolor\":\"white\",\"linecolor\":\"white\",\"showbackground\":true,\"ticks\":\"\",\"zerolinecolor\":\"white\",\"gridwidth\":2},\"yaxis\":{\"backgroundcolor\":\"#E5ECF6\",\"gridcolor\":\"white\",\"linecolor\":\"white\",\"showbackground\":true,\"ticks\":\"\",\"zerolinecolor\":\"white\",\"gridwidth\":2},\"zaxis\":{\"backgroundcolor\":\"#E5ECF6\",\"gridcolor\":\"white\",\"linecolor\":\"white\",\"showbackground\":true,\"ticks\":\"\",\"zerolinecolor\":\"white\",\"gridwidth\":2}},\"shapedefaults\":{\"line\":{\"color\":\"#2a3f5f\"}},\"annotationdefaults\":{\"arrowcolor\":\"#2a3f5f\",\"arrowhead\":0,\"arrowwidth\":1},\"geo\":{\"bgcolor\":\"white\",\"landcolor\":\"#E5ECF6\",\"subunitcolor\":\"white\",\"showland\":true,\"showlakes\":true,\"lakecolor\":\"white\"},\"title\":{\"x\":0.05},\"mapbox\":{\"style\":\"light\"}}},\"xaxis\":{\"anchor\":\"y\",\"domain\":[0.0,1.0],\"title\":{\"text\":\"dates\"}},\"yaxis\":{\"anchor\":\"x\",\"domain\":[0.0,1.0],\"title\":{\"text\":\"equity_daily\"}},\"legend\":{\"tracegroupgap\":0},\"margin\":{\"t\":60}},                        {\"responsive\": true}                    ).then(function(){\n",
       "                            \n",
       "var gd = document.getElementById('749a04b8-a054-4e25-9cce-a18469155400');\n",
       "var x = new MutationObserver(function (mutations, observer) {{\n",
       "        var display = window.getComputedStyle(gd).display;\n",
       "        if (!display || display === 'none') {{\n",
       "            console.log([gd, 'removed!']);\n",
       "            Plotly.purge(gd);\n",
       "            observer.disconnect();\n",
       "        }}\n",
       "}});\n",
       "\n",
       "// Listen for the removal of the full notebook cells\n",
       "var notebookContainer = gd.closest('#notebook-container');\n",
       "if (notebookContainer) {{\n",
       "    x.observe(notebookContainer, {childList: true});\n",
       "}}\n",
       "\n",
       "// Listen for the clearing of the current output cell\n",
       "var outputEl = gd.closest('.output');\n",
       "if (outputEl) {{\n",
       "    x.observe(outputEl, {childList: true});\n",
       "}}\n",
       "\n",
       "                        })                };                });            </script>        </div>"
      ]
     },
     "metadata": {},
     "output_type": "display_data"
    }
   ],
   "source": [
    "# Plotting equity line (starting with 0 on day 1 and adding daily profit for each backtested day)\n",
    "\n",
    "from freqtrade.configuration import Configuration\n",
    "from freqtrade.data.btanalysis import load_backtest_stats\n",
    "import plotly.express as px\n",
    "import pandas as pd\n",
    "\n",
    "# strategy = 'SampleStrategy'\n",
    "# config = Configuration.from_files([\"user_data/config.json\"])\n",
    "# backtest_dir = config[\"user_data_dir\"] / \"backtest_results\"\n",
    "\n",
    "stats = load_backtest_stats(backtest_dir)\n",
    "strategy_stats = stats['strategy'][strategy]\n",
    "\n",
    "df = pd.DataFrame(columns=['dates','equity'], data=strategy_stats['daily_profit'])\n",
    "df['equity_daily'] = df['equity'].cumsum()\n",
    "\n",
    "fig = px.line(df, x=\"dates\", y=\"equity_daily\")\n",
    "fig.show()\n"
   ]
  },
  {
   "cell_type": "markdown",
   "metadata": {},
   "source": [
    "### Load live trading results into a pandas dataframe\n",
    "\n",
    "In case you did already some trading and want to analyze your performance"
   ]
  },
  {
   "cell_type": "code",
   "execution_count": 21,
   "metadata": {},
   "outputs": [
    {
     "data": {
      "text/plain": [
       "Series([], Name: count, dtype: int64)"
      ]
     },
     "execution_count": 21,
     "metadata": {},
     "output_type": "execute_result"
    }
   ],
   "source": [
    "from freqtrade.data.btanalysis import load_trades_from_db\n",
    "\n",
    "# Fetch trades from database\n",
    "trades = load_trades_from_db(\"sqlite:///tradesv3.sqlite\")\n",
    "\n",
    "# Display results\n",
    "trades.groupby(\"pair\")[\"exit_reason\"].value_counts()"
   ]
  },
  {
   "cell_type": "markdown",
   "metadata": {},
   "source": [
    "## Analyze the loaded trades for trade parallelism\n",
    "This can be useful to find the best `max_open_trades` parameter, when used with backtesting in conjunction with `--disable-max-market-positions`.\n",
    "\n",
    "`analyze_trade_parallelism()` returns a timeseries dataframe with an \"open_trades\" column, specifying the number of open trades for each candle."
   ]
  },
  {
   "cell_type": "code",
   "execution_count": 22,
   "metadata": {},
   "outputs": [
    {
     "ename": "ValueError",
     "evalue": "No objects to concatenate",
     "output_type": "error",
     "traceback": [
      "\u001b[0;31m---------------------------------------------------------------------------\u001b[0m",
      "\u001b[0;31mValueError\u001b[0m                                Traceback (most recent call last)",
      "Cell \u001b[0;32mIn[22], line 4\u001b[0m\n\u001b[1;32m      1\u001b[0m \u001b[38;5;28;01mfrom\u001b[39;00m \u001b[38;5;21;01mfreqtrade\u001b[39;00m\u001b[38;5;21;01m.\u001b[39;00m\u001b[38;5;21;01mdata\u001b[39;00m\u001b[38;5;21;01m.\u001b[39;00m\u001b[38;5;21;01mbtanalysis\u001b[39;00m \u001b[38;5;28;01mimport\u001b[39;00m analyze_trade_parallelism\n\u001b[1;32m      3\u001b[0m \u001b[38;5;66;03m# Analyze the above\u001b[39;00m\n\u001b[0;32m----> 4\u001b[0m parallel_trades \u001b[38;5;241m=\u001b[39m \u001b[43manalyze_trade_parallelism\u001b[49m\u001b[43m(\u001b[49m\u001b[43mtrades\u001b[49m\u001b[43m,\u001b[49m\u001b[43m \u001b[49m\u001b[38;5;124;43m'\u001b[39;49m\u001b[38;5;124;43m15m\u001b[39;49m\u001b[38;5;124;43m'\u001b[39;49m\u001b[43m)\u001b[49m\n\u001b[1;32m      6\u001b[0m parallel_trades\u001b[38;5;241m.\u001b[39mplot()\n",
      "File \u001b[0;32m/freqtrade/freqtrade/data/btanalysis.py:408\u001b[0m, in \u001b[0;36manalyze_trade_parallelism\u001b[0;34m(results, timeframe)\u001b[0m\n\u001b[1;32m    403\u001b[0m dates \u001b[38;5;241m=\u001b[39m [\n\u001b[1;32m    404\u001b[0m     pd\u001b[38;5;241m.\u001b[39mSeries(pd\u001b[38;5;241m.\u001b[39mdate_range(row[\u001b[38;5;241m1\u001b[39m][\u001b[38;5;124m\"\u001b[39m\u001b[38;5;124mopen_date\u001b[39m\u001b[38;5;124m\"\u001b[39m], row[\u001b[38;5;241m1\u001b[39m][\u001b[38;5;124m\"\u001b[39m\u001b[38;5;124mclose_date\u001b[39m\u001b[38;5;124m\"\u001b[39m], freq\u001b[38;5;241m=\u001b[39mtimeframe_freq))\n\u001b[1;32m    405\u001b[0m     \u001b[38;5;28;01mfor\u001b[39;00m row \u001b[38;5;129;01min\u001b[39;00m results[[\u001b[38;5;124m\"\u001b[39m\u001b[38;5;124mopen_date\u001b[39m\u001b[38;5;124m\"\u001b[39m, \u001b[38;5;124m\"\u001b[39m\u001b[38;5;124mclose_date\u001b[39m\u001b[38;5;124m\"\u001b[39m]]\u001b[38;5;241m.\u001b[39miterrows()\n\u001b[1;32m    406\u001b[0m ]\n\u001b[1;32m    407\u001b[0m deltas \u001b[38;5;241m=\u001b[39m [\u001b[38;5;28mlen\u001b[39m(x) \u001b[38;5;28;01mfor\u001b[39;00m x \u001b[38;5;129;01min\u001b[39;00m dates]\n\u001b[0;32m--> 408\u001b[0m dates \u001b[38;5;241m=\u001b[39m pd\u001b[38;5;241m.\u001b[39mSeries(\u001b[43mpd\u001b[49m\u001b[38;5;241;43m.\u001b[39;49m\u001b[43mconcat\u001b[49m\u001b[43m(\u001b[49m\u001b[43mdates\u001b[49m\u001b[43m)\u001b[49m\u001b[38;5;241m.\u001b[39mvalues, name\u001b[38;5;241m=\u001b[39m\u001b[38;5;124m\"\u001b[39m\u001b[38;5;124mdate\u001b[39m\u001b[38;5;124m\"\u001b[39m)\n\u001b[1;32m    409\u001b[0m df2 \u001b[38;5;241m=\u001b[39m pd\u001b[38;5;241m.\u001b[39mDataFrame(np\u001b[38;5;241m.\u001b[39mrepeat(results\u001b[38;5;241m.\u001b[39mvalues, deltas, axis\u001b[38;5;241m=\u001b[39m\u001b[38;5;241m0\u001b[39m), columns\u001b[38;5;241m=\u001b[39mresults\u001b[38;5;241m.\u001b[39mcolumns)\n\u001b[1;32m    411\u001b[0m df2 \u001b[38;5;241m=\u001b[39m pd\u001b[38;5;241m.\u001b[39mconcat([dates, df2], axis\u001b[38;5;241m=\u001b[39m\u001b[38;5;241m1\u001b[39m)\n",
      "File \u001b[0;32m~/.local/lib/python3.12/site-packages/pandas/core/reshape/concat.py:382\u001b[0m, in \u001b[0;36mconcat\u001b[0;34m(objs, axis, join, ignore_index, keys, levels, names, verify_integrity, sort, copy)\u001b[0m\n\u001b[1;32m    379\u001b[0m \u001b[38;5;28;01melif\u001b[39;00m copy \u001b[38;5;129;01mand\u001b[39;00m using_copy_on_write():\n\u001b[1;32m    380\u001b[0m     copy \u001b[38;5;241m=\u001b[39m \u001b[38;5;28;01mFalse\u001b[39;00m\n\u001b[0;32m--> 382\u001b[0m op \u001b[38;5;241m=\u001b[39m \u001b[43m_Concatenator\u001b[49m\u001b[43m(\u001b[49m\n\u001b[1;32m    383\u001b[0m \u001b[43m    \u001b[49m\u001b[43mobjs\u001b[49m\u001b[43m,\u001b[49m\n\u001b[1;32m    384\u001b[0m \u001b[43m    \u001b[49m\u001b[43maxis\u001b[49m\u001b[38;5;241;43m=\u001b[39;49m\u001b[43maxis\u001b[49m\u001b[43m,\u001b[49m\n\u001b[1;32m    385\u001b[0m \u001b[43m    \u001b[49m\u001b[43mignore_index\u001b[49m\u001b[38;5;241;43m=\u001b[39;49m\u001b[43mignore_index\u001b[49m\u001b[43m,\u001b[49m\n\u001b[1;32m    386\u001b[0m \u001b[43m    \u001b[49m\u001b[43mjoin\u001b[49m\u001b[38;5;241;43m=\u001b[39;49m\u001b[43mjoin\u001b[49m\u001b[43m,\u001b[49m\n\u001b[1;32m    387\u001b[0m \u001b[43m    \u001b[49m\u001b[43mkeys\u001b[49m\u001b[38;5;241;43m=\u001b[39;49m\u001b[43mkeys\u001b[49m\u001b[43m,\u001b[49m\n\u001b[1;32m    388\u001b[0m \u001b[43m    \u001b[49m\u001b[43mlevels\u001b[49m\u001b[38;5;241;43m=\u001b[39;49m\u001b[43mlevels\u001b[49m\u001b[43m,\u001b[49m\n\u001b[1;32m    389\u001b[0m \u001b[43m    \u001b[49m\u001b[43mnames\u001b[49m\u001b[38;5;241;43m=\u001b[39;49m\u001b[43mnames\u001b[49m\u001b[43m,\u001b[49m\n\u001b[1;32m    390\u001b[0m \u001b[43m    \u001b[49m\u001b[43mverify_integrity\u001b[49m\u001b[38;5;241;43m=\u001b[39;49m\u001b[43mverify_integrity\u001b[49m\u001b[43m,\u001b[49m\n\u001b[1;32m    391\u001b[0m \u001b[43m    \u001b[49m\u001b[43mcopy\u001b[49m\u001b[38;5;241;43m=\u001b[39;49m\u001b[43mcopy\u001b[49m\u001b[43m,\u001b[49m\n\u001b[1;32m    392\u001b[0m \u001b[43m    \u001b[49m\u001b[43msort\u001b[49m\u001b[38;5;241;43m=\u001b[39;49m\u001b[43msort\u001b[49m\u001b[43m,\u001b[49m\n\u001b[1;32m    393\u001b[0m \u001b[43m\u001b[49m\u001b[43m)\u001b[49m\n\u001b[1;32m    395\u001b[0m \u001b[38;5;28;01mreturn\u001b[39;00m op\u001b[38;5;241m.\u001b[39mget_result()\n",
      "File \u001b[0;32m~/.local/lib/python3.12/site-packages/pandas/core/reshape/concat.py:445\u001b[0m, in \u001b[0;36m_Concatenator.__init__\u001b[0;34m(self, objs, axis, join, keys, levels, names, ignore_index, verify_integrity, copy, sort)\u001b[0m\n\u001b[1;32m    442\u001b[0m \u001b[38;5;28mself\u001b[39m\u001b[38;5;241m.\u001b[39mverify_integrity \u001b[38;5;241m=\u001b[39m verify_integrity\n\u001b[1;32m    443\u001b[0m \u001b[38;5;28mself\u001b[39m\u001b[38;5;241m.\u001b[39mcopy \u001b[38;5;241m=\u001b[39m copy\n\u001b[0;32m--> 445\u001b[0m objs, keys \u001b[38;5;241m=\u001b[39m \u001b[38;5;28;43mself\u001b[39;49m\u001b[38;5;241;43m.\u001b[39;49m\u001b[43m_clean_keys_and_objs\u001b[49m\u001b[43m(\u001b[49m\u001b[43mobjs\u001b[49m\u001b[43m,\u001b[49m\u001b[43m \u001b[49m\u001b[43mkeys\u001b[49m\u001b[43m)\u001b[49m\n\u001b[1;32m    447\u001b[0m \u001b[38;5;66;03m# figure out what our result ndim is going to be\u001b[39;00m\n\u001b[1;32m    448\u001b[0m ndims \u001b[38;5;241m=\u001b[39m \u001b[38;5;28mself\u001b[39m\u001b[38;5;241m.\u001b[39m_get_ndims(objs)\n",
      "File \u001b[0;32m~/.local/lib/python3.12/site-packages/pandas/core/reshape/concat.py:507\u001b[0m, in \u001b[0;36m_Concatenator._clean_keys_and_objs\u001b[0;34m(self, objs, keys)\u001b[0m\n\u001b[1;32m    504\u001b[0m     objs_list \u001b[38;5;241m=\u001b[39m \u001b[38;5;28mlist\u001b[39m(objs)\n\u001b[1;32m    506\u001b[0m \u001b[38;5;28;01mif\u001b[39;00m \u001b[38;5;28mlen\u001b[39m(objs_list) \u001b[38;5;241m==\u001b[39m \u001b[38;5;241m0\u001b[39m:\n\u001b[0;32m--> 507\u001b[0m     \u001b[38;5;28;01mraise\u001b[39;00m \u001b[38;5;167;01mValueError\u001b[39;00m(\u001b[38;5;124m\"\u001b[39m\u001b[38;5;124mNo objects to concatenate\u001b[39m\u001b[38;5;124m\"\u001b[39m)\n\u001b[1;32m    509\u001b[0m \u001b[38;5;28;01mif\u001b[39;00m keys \u001b[38;5;129;01mis\u001b[39;00m \u001b[38;5;28;01mNone\u001b[39;00m:\n\u001b[1;32m    510\u001b[0m     objs_list \u001b[38;5;241m=\u001b[39m \u001b[38;5;28mlist\u001b[39m(com\u001b[38;5;241m.\u001b[39mnot_none(\u001b[38;5;241m*\u001b[39mobjs_list))\n",
      "\u001b[0;31mValueError\u001b[0m: No objects to concatenate"
     ]
    }
   ],
   "source": [
    "from freqtrade.data.btanalysis import analyze_trade_parallelism\n",
    "\n",
    "# Analyze the above\n",
    "parallel_trades = analyze_trade_parallelism(trades, '15m')\n",
    "\n",
    "parallel_trades.plot()"
   ]
  },
  {
   "cell_type": "markdown",
   "metadata": {},
   "source": [
    "## Plot results\n",
    "\n",
    "Freqtrade offers interactive plotting capabilities based on plotly."
   ]
  },
  {
   "cell_type": "code",
   "execution_count": 23,
   "metadata": {},
   "outputs": [],
   "source": [
    "from freqtrade.plot.plotting import  generate_candlestick_graph\n",
    "# Limit graph period to keep plotly quick and reactive\n",
    "\n",
    "# Filter trades to one pair\n",
    "trades_red = trades.loc[trades['pair'] == pair]\n",
    "\n",
    "data_red = data['2019-06-01':'2019-06-10']\n",
    "# Generate candlestick graph\n",
    "graph = generate_candlestick_graph(pair=pair,\n",
    "                                   data=data_red,\n",
    "                                   trades=trades_red,\n",
    "                                   indicators1=['sma20', 'ema50', 'ema55'],\n",
    "                                   indicators2=['rsi', 'macd', 'macdsignal', 'macdhist']\n",
    "                                  )\n",
    "\n",
    "\n"
   ]
  },
  {
   "cell_type": "code",
   "execution_count": 24,
   "metadata": {},
   "outputs": [
    {
     "ename": "Error",
     "evalue": "could not locate runnable browser",
     "output_type": "error",
     "traceback": [
      "\u001b[0;31m---------------------------------------------------------------------------\u001b[0m",
      "\u001b[0;31mError\u001b[0m                                     Traceback (most recent call last)",
      "Cell \u001b[0;32mIn[24], line 5\u001b[0m\n\u001b[1;32m      1\u001b[0m \u001b[38;5;66;03m# Show graph inline\u001b[39;00m\n\u001b[1;32m      2\u001b[0m \u001b[38;5;66;03m# graph.show()\u001b[39;00m\n\u001b[1;32m      3\u001b[0m \n\u001b[1;32m      4\u001b[0m \u001b[38;5;66;03m# Render graph in a separate window\u001b[39;00m\n\u001b[0;32m----> 5\u001b[0m \u001b[43mgraph\u001b[49m\u001b[38;5;241;43m.\u001b[39;49m\u001b[43mshow\u001b[49m\u001b[43m(\u001b[49m\u001b[43mrenderer\u001b[49m\u001b[38;5;241;43m=\u001b[39;49m\u001b[38;5;124;43m\"\u001b[39;49m\u001b[38;5;124;43mbrowser\u001b[39;49m\u001b[38;5;124;43m\"\u001b[39;49m\u001b[43m)\u001b[49m\n",
      "File \u001b[0;32m~/.local/lib/python3.12/site-packages/plotly/basedatatypes.py:3410\u001b[0m, in \u001b[0;36mBaseFigure.show\u001b[0;34m(self, *args, **kwargs)\u001b[0m\n\u001b[1;32m   3377\u001b[0m \u001b[38;5;250m\u001b[39m\u001b[38;5;124;03m\"\"\"\u001b[39;00m\n\u001b[1;32m   3378\u001b[0m \u001b[38;5;124;03mShow a figure using either the default renderer(s) or the renderer(s)\u001b[39;00m\n\u001b[1;32m   3379\u001b[0m \u001b[38;5;124;03mspecified by the renderer argument\u001b[39;00m\n\u001b[0;32m   (...)\u001b[0m\n\u001b[1;32m   3406\u001b[0m \u001b[38;5;124;03mNone\u001b[39;00m\n\u001b[1;32m   3407\u001b[0m \u001b[38;5;124;03m\"\"\"\u001b[39;00m\n\u001b[1;32m   3408\u001b[0m \u001b[38;5;28;01mimport\u001b[39;00m \u001b[38;5;21;01mplotly\u001b[39;00m\u001b[38;5;21;01m.\u001b[39;00m\u001b[38;5;21;01mio\u001b[39;00m \u001b[38;5;28;01mas\u001b[39;00m \u001b[38;5;21;01mpio\u001b[39;00m\n\u001b[0;32m-> 3410\u001b[0m \u001b[38;5;28;01mreturn\u001b[39;00m \u001b[43mpio\u001b[49m\u001b[38;5;241;43m.\u001b[39;49m\u001b[43mshow\u001b[49m\u001b[43m(\u001b[49m\u001b[38;5;28;43mself\u001b[39;49m\u001b[43m,\u001b[49m\u001b[43m \u001b[49m\u001b[38;5;241;43m*\u001b[39;49m\u001b[43margs\u001b[49m\u001b[43m,\u001b[49m\u001b[43m \u001b[49m\u001b[38;5;241;43m*\u001b[39;49m\u001b[38;5;241;43m*\u001b[39;49m\u001b[43mkwargs\u001b[49m\u001b[43m)\u001b[49m\n",
      "File \u001b[0;32m~/.local/lib/python3.12/site-packages/plotly/io/_renderers.py:401\u001b[0m, in \u001b[0;36mshow\u001b[0;34m(fig, renderer, validate, **kwargs)\u001b[0m\n\u001b[1;32m    398\u001b[0m     ipython_display\u001b[38;5;241m.\u001b[39mdisplay(bundle, raw\u001b[38;5;241m=\u001b[39m\u001b[38;5;28;01mTrue\u001b[39;00m)\n\u001b[1;32m    400\u001b[0m \u001b[38;5;66;03m# external renderers\u001b[39;00m\n\u001b[0;32m--> 401\u001b[0m \u001b[43mrenderers\u001b[49m\u001b[38;5;241;43m.\u001b[39;49m\u001b[43m_perform_external_rendering\u001b[49m\u001b[43m(\u001b[49m\u001b[43mfig_dict\u001b[49m\u001b[43m,\u001b[49m\u001b[43m \u001b[49m\u001b[43mrenderers_string\u001b[49m\u001b[38;5;241;43m=\u001b[39;49m\u001b[43mrenderer\u001b[49m\u001b[43m,\u001b[49m\u001b[43m \u001b[49m\u001b[38;5;241;43m*\u001b[39;49m\u001b[38;5;241;43m*\u001b[39;49m\u001b[43mkwargs\u001b[49m\u001b[43m)\u001b[49m\n",
      "File \u001b[0;32m~/.local/lib/python3.12/site-packages/plotly/io/_renderers.py:338\u001b[0m, in \u001b[0;36mRenderersConfig._perform_external_rendering\u001b[0;34m(self, fig_dict, renderers_string, **kwargs)\u001b[0m\n\u001b[1;32m    335\u001b[0m     \u001b[38;5;28;01mif\u001b[39;00m \u001b[38;5;28mhasattr\u001b[39m(renderer, k):\n\u001b[1;32m    336\u001b[0m         \u001b[38;5;28msetattr\u001b[39m(renderer, k, v)\n\u001b[0;32m--> 338\u001b[0m \u001b[43mrenderer\u001b[49m\u001b[38;5;241;43m.\u001b[39;49m\u001b[43mrender\u001b[49m\u001b[43m(\u001b[49m\u001b[43mfig_dict\u001b[49m\u001b[43m)\u001b[49m\n",
      "File \u001b[0;32m~/.local/lib/python3.12/site-packages/plotly/io/_base_renderers.py:760\u001b[0m, in \u001b[0;36mBrowserRenderer.render\u001b[0;34m(self, fig_dict)\u001b[0m\n\u001b[1;32m    745\u001b[0m \u001b[38;5;28;01mfrom\u001b[39;00m \u001b[38;5;21;01mplotly\u001b[39;00m\u001b[38;5;21;01m.\u001b[39;00m\u001b[38;5;21;01mio\u001b[39;00m \u001b[38;5;28;01mimport\u001b[39;00m to_html\n\u001b[1;32m    747\u001b[0m html \u001b[38;5;241m=\u001b[39m to_html(\n\u001b[1;32m    748\u001b[0m     fig_dict,\n\u001b[1;32m    749\u001b[0m     config\u001b[38;5;241m=\u001b[39m\u001b[38;5;28mself\u001b[39m\u001b[38;5;241m.\u001b[39mconfig,\n\u001b[0;32m   (...)\u001b[0m\n\u001b[1;32m    758\u001b[0m     validate\u001b[38;5;241m=\u001b[39m\u001b[38;5;28;01mFalse\u001b[39;00m,\n\u001b[1;32m    759\u001b[0m )\n\u001b[0;32m--> 760\u001b[0m \u001b[43mopen_html_in_browser\u001b[49m\u001b[43m(\u001b[49m\u001b[43mhtml\u001b[49m\u001b[43m,\u001b[49m\u001b[43m \u001b[49m\u001b[38;5;28;43mself\u001b[39;49m\u001b[38;5;241;43m.\u001b[39;49m\u001b[43musing\u001b[49m\u001b[43m,\u001b[49m\u001b[43m \u001b[49m\u001b[38;5;28;43mself\u001b[39;49m\u001b[38;5;241;43m.\u001b[39;49m\u001b[43mnew\u001b[49m\u001b[43m,\u001b[49m\u001b[43m \u001b[49m\u001b[38;5;28;43mself\u001b[39;49m\u001b[38;5;241;43m.\u001b[39;49m\u001b[43mautoraise\u001b[49m\u001b[43m)\u001b[49m\n",
      "File \u001b[0;32m~/.local/lib/python3.12/site-packages/plotly/io/_base_renderers.py:675\u001b[0m, in \u001b[0;36mopen_html_in_browser\u001b[0;34m(html, using, new, autoraise)\u001b[0m\n\u001b[1;32m    672\u001b[0m browser \u001b[38;5;241m=\u001b[39m \u001b[38;5;28;01mNone\u001b[39;00m\n\u001b[1;32m    674\u001b[0m \u001b[38;5;28;01mif\u001b[39;00m using \u001b[38;5;129;01mis\u001b[39;00m \u001b[38;5;28;01mNone\u001b[39;00m:\n\u001b[0;32m--> 675\u001b[0m     browser \u001b[38;5;241m=\u001b[39m \u001b[43mwebbrowser\u001b[49m\u001b[38;5;241;43m.\u001b[39;49m\u001b[43mget\u001b[49m\u001b[43m(\u001b[49m\u001b[38;5;28;43;01mNone\u001b[39;49;00m\u001b[43m)\u001b[49m\n\u001b[1;32m    676\u001b[0m \u001b[38;5;28;01melse\u001b[39;00m:\n\u001b[1;32m    677\u001b[0m     \u001b[38;5;28;01mif\u001b[39;00m \u001b[38;5;129;01mnot\u001b[39;00m \u001b[38;5;28misinstance\u001b[39m(using, \u001b[38;5;28mtuple\u001b[39m):\n",
      "File \u001b[0;32m/usr/local/lib/python3.12/webbrowser.py:66\u001b[0m, in \u001b[0;36mget\u001b[0;34m(using)\u001b[0m\n\u001b[1;32m     64\u001b[0m         \u001b[38;5;28;01melif\u001b[39;00m command[\u001b[38;5;241m0\u001b[39m] \u001b[38;5;129;01mis\u001b[39;00m \u001b[38;5;129;01mnot\u001b[39;00m \u001b[38;5;28;01mNone\u001b[39;00m:\n\u001b[1;32m     65\u001b[0m             \u001b[38;5;28;01mreturn\u001b[39;00m command[\u001b[38;5;241m0\u001b[39m]()\n\u001b[0;32m---> 66\u001b[0m \u001b[38;5;28;01mraise\u001b[39;00m Error(\u001b[38;5;124m\"\u001b[39m\u001b[38;5;124mcould not locate runnable browser\u001b[39m\u001b[38;5;124m\"\u001b[39m)\n",
      "\u001b[0;31mError\u001b[0m: could not locate runnable browser"
     ]
    }
   ],
   "source": [
    "# Show graph inline\n",
    "# graph.show()\n",
    "\n",
    "# Render graph in a separate window\n",
    "graph.show(renderer=\"browser\")\n"
   ]
  },
  {
   "cell_type": "markdown",
   "metadata": {},
   "source": [
    "## Plot average profit per trade as distribution graph"
   ]
  },
  {
   "cell_type": "code",
   "execution_count": 25,
   "metadata": {},
   "outputs": [
    {
     "ename": "ValueError",
     "evalue": "min() iterable argument is empty",
     "output_type": "error",
     "traceback": [
      "\u001b[0;31m---------------------------------------------------------------------------\u001b[0m",
      "\u001b[0;31mValueError\u001b[0m                                Traceback (most recent call last)",
      "Cell \u001b[0;32mIn[25], line 6\u001b[0m\n\u001b[1;32m      3\u001b[0m hist_data \u001b[38;5;241m=\u001b[39m [trades\u001b[38;5;241m.\u001b[39mprofit_ratio]\n\u001b[1;32m      4\u001b[0m group_labels \u001b[38;5;241m=\u001b[39m [\u001b[38;5;124m'\u001b[39m\u001b[38;5;124mprofit_ratio\u001b[39m\u001b[38;5;124m'\u001b[39m]  \u001b[38;5;66;03m# name of the dataset\u001b[39;00m\n\u001b[0;32m----> 6\u001b[0m fig \u001b[38;5;241m=\u001b[39m \u001b[43mff\u001b[49m\u001b[38;5;241;43m.\u001b[39;49m\u001b[43mcreate_distplot\u001b[49m\u001b[43m(\u001b[49m\u001b[43mhist_data\u001b[49m\u001b[43m,\u001b[49m\u001b[43m \u001b[49m\u001b[43mgroup_labels\u001b[49m\u001b[43m,\u001b[49m\u001b[43m \u001b[49m\u001b[43mbin_size\u001b[49m\u001b[38;5;241;43m=\u001b[39;49m\u001b[38;5;241;43m0.01\u001b[39;49m\u001b[43m)\u001b[49m\n\u001b[1;32m      7\u001b[0m fig\u001b[38;5;241m.\u001b[39mshow()\n",
      "File \u001b[0;32m~/.local/lib/python3.12/site-packages/plotly/figure_factory/_distplot.py:187\u001b[0m, in \u001b[0;36mcreate_distplot\u001b[0;34m(hist_data, group_labels, bin_size, curve_type, colors, rug_text, histnorm, show_hist, show_curve, show_rug)\u001b[0m\n\u001b[1;32m    184\u001b[0m data \u001b[38;5;241m=\u001b[39m []\n\u001b[1;32m    185\u001b[0m \u001b[38;5;28;01mif\u001b[39;00m show_hist:\n\u001b[0;32m--> 187\u001b[0m     hist \u001b[38;5;241m=\u001b[39m \u001b[43m_Distplot\u001b[49m\u001b[43m(\u001b[49m\n\u001b[1;32m    188\u001b[0m \u001b[43m        \u001b[49m\u001b[43mhist_data\u001b[49m\u001b[43m,\u001b[49m\n\u001b[1;32m    189\u001b[0m \u001b[43m        \u001b[49m\u001b[43mhistnorm\u001b[49m\u001b[43m,\u001b[49m\n\u001b[1;32m    190\u001b[0m \u001b[43m        \u001b[49m\u001b[43mgroup_labels\u001b[49m\u001b[43m,\u001b[49m\n\u001b[1;32m    191\u001b[0m \u001b[43m        \u001b[49m\u001b[43mbin_size\u001b[49m\u001b[43m,\u001b[49m\n\u001b[1;32m    192\u001b[0m \u001b[43m        \u001b[49m\u001b[43mcurve_type\u001b[49m\u001b[43m,\u001b[49m\n\u001b[1;32m    193\u001b[0m \u001b[43m        \u001b[49m\u001b[43mcolors\u001b[49m\u001b[43m,\u001b[49m\n\u001b[1;32m    194\u001b[0m \u001b[43m        \u001b[49m\u001b[43mrug_text\u001b[49m\u001b[43m,\u001b[49m\n\u001b[1;32m    195\u001b[0m \u001b[43m        \u001b[49m\u001b[43mshow_hist\u001b[49m\u001b[43m,\u001b[49m\n\u001b[1;32m    196\u001b[0m \u001b[43m        \u001b[49m\u001b[43mshow_curve\u001b[49m\u001b[43m,\u001b[49m\n\u001b[1;32m    197\u001b[0m \u001b[43m    \u001b[49m\u001b[43m)\u001b[49m\u001b[38;5;241m.\u001b[39mmake_hist()\n\u001b[1;32m    199\u001b[0m     data\u001b[38;5;241m.\u001b[39mappend(hist)\n\u001b[1;32m    201\u001b[0m \u001b[38;5;28;01mif\u001b[39;00m show_curve:\n",
      "File \u001b[0;32m~/.local/lib/python3.12/site-packages/plotly/figure_factory/_distplot.py:316\u001b[0m, in \u001b[0;36m_Distplot.__init__\u001b[0;34m(self, hist_data, histnorm, group_labels, bin_size, curve_type, colors, rug_text, show_hist, show_curve)\u001b[0m\n\u001b[1;32m    313\u001b[0m \u001b[38;5;28mself\u001b[39m\u001b[38;5;241m.\u001b[39mcurve_y \u001b[38;5;241m=\u001b[39m [\u001b[38;5;28;01mNone\u001b[39;00m] \u001b[38;5;241m*\u001b[39m \u001b[38;5;28mself\u001b[39m\u001b[38;5;241m.\u001b[39mtrace_number\n\u001b[1;32m    315\u001b[0m \u001b[38;5;28;01mfor\u001b[39;00m trace \u001b[38;5;129;01min\u001b[39;00m \u001b[38;5;28mself\u001b[39m\u001b[38;5;241m.\u001b[39mhist_data:\n\u001b[0;32m--> 316\u001b[0m     \u001b[38;5;28mself\u001b[39m\u001b[38;5;241m.\u001b[39mstart\u001b[38;5;241m.\u001b[39mappend(\u001b[38;5;28;43mmin\u001b[39;49m\u001b[43m(\u001b[49m\u001b[43mtrace\u001b[49m\u001b[43m)\u001b[49m \u001b[38;5;241m*\u001b[39m \u001b[38;5;241m1.0\u001b[39m)\n\u001b[1;32m    317\u001b[0m     \u001b[38;5;28mself\u001b[39m\u001b[38;5;241m.\u001b[39mend\u001b[38;5;241m.\u001b[39mappend(\u001b[38;5;28mmax\u001b[39m(trace) \u001b[38;5;241m*\u001b[39m \u001b[38;5;241m1.0\u001b[39m)\n",
      "\u001b[0;31mValueError\u001b[0m: min() iterable argument is empty"
     ]
    }
   ],
   "source": [
    "import plotly.figure_factory as ff\n",
    "\n",
    "hist_data = [trades.profit_ratio]\n",
    "group_labels = ['profit_ratio']  # name of the dataset\n",
    "\n",
    "fig = ff.create_distplot(hist_data, group_labels, bin_size=0.01)\n",
    "fig.show()\n"
   ]
  },
  {
   "cell_type": "markdown",
   "metadata": {},
   "source": [
    "Feel free to submit an issue or Pull Request enhancing this document if you would like to share ideas on how to best analyze the data."
   ]
  },
  {
   "cell_type": "code",
   "execution_count": null,
   "metadata": {},
   "outputs": [],
   "source": []
  },
  {
   "cell_type": "code",
   "execution_count": null,
   "metadata": {},
   "outputs": [],
   "source": []
  },
  {
   "cell_type": "code",
   "execution_count": null,
   "metadata": {},
   "outputs": [],
   "source": []
  }
 ],
 "metadata": {
  "file_extension": ".py",
  "kernelspec": {
   "display_name": "Python 3 (ipykernel)",
   "language": "python",
   "name": "python3"
  },
  "language_info": {
   "codemirror_mode": {
    "name": "ipython",
    "version": 3
   },
   "file_extension": ".py",
   "mimetype": "text/x-python",
   "name": "python",
   "nbconvert_exporter": "python",
   "pygments_lexer": "ipython3",
   "version": "3.12.4"
  },
  "mimetype": "text/x-python",
  "name": "python",
  "npconvert_exporter": "python",
  "pygments_lexer": "ipython3",
  "toc": {
   "base_numbering": 1,
   "nav_menu": {},
   "number_sections": true,
   "sideBar": true,
   "skip_h1_title": false,
   "title_cell": "Table of Contents",
   "title_sidebar": "Contents",
   "toc_cell": false,
   "toc_position": {},
   "toc_section_display": true,
   "toc_window_display": false
  },
  "varInspector": {
   "cols": {
    "lenName": 16,
    "lenType": 16,
    "lenVar": 40
   },
   "kernels_config": {
    "python": {
     "delete_cmd_postfix": "",
     "delete_cmd_prefix": "del ",
     "library": "var_list.py",
     "varRefreshCmd": "print(var_dic_list())"
    },
    "r": {
     "delete_cmd_postfix": ") ",
     "delete_cmd_prefix": "rm(",
     "library": "var_list.r",
     "varRefreshCmd": "cat(var_dic_list()) "
    }
   },
   "types_to_exclude": [
    "module",
    "function",
    "builtin_function_or_method",
    "instance",
    "_Feature"
   ],
   "window_display": false
  },
  "version": 3,
  "vscode": {
   "interpreter": {
    "hash": "675f32a300d6d26767470181ad0b11dd4676bcce7ed1dd2ffe2fbc370c95fc7c"
   }
  }
 },
 "nbformat": 4,
 "nbformat_minor": 4
}
